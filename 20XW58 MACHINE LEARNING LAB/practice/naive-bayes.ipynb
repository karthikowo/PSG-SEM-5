{
 "cells": [
  {
   "cell_type": "code",
   "execution_count": 82,
   "id": "1e3fc266",
   "metadata": {},
   "outputs": [],
   "source": [
    "import pandas as pd\n",
    "import numpy as np\n",
    "from sklearn.model_selection import train_test_split\n",
    "from sklearn.preprocessing import LabelEncoder"
   ]
  },
  {
   "cell_type": "code",
   "execution_count": 83,
   "id": "d694562b",
   "metadata": {},
   "outputs": [],
   "source": [
    "df = pd.read_csv(\"D:/PSG/PSG-Z/SEM 5/20XW58 MACHINE LEARNING LAB/practice/datasets/wbc_original.csv\")\n",
    "del df['id']"
   ]
  },
  {
   "cell_type": "code",
   "execution_count": 84,
   "id": "0640aafc",
   "metadata": {},
   "outputs": [
    {
     "data": {
      "text/html": [
       "<div>\n",
       "<style scoped>\n",
       "    .dataframe tbody tr th:only-of-type {\n",
       "        vertical-align: middle;\n",
       "    }\n",
       "\n",
       "    .dataframe tbody tr th {\n",
       "        vertical-align: top;\n",
       "    }\n",
       "\n",
       "    .dataframe thead th {\n",
       "        text-align: right;\n",
       "    }\n",
       "</style>\n",
       "<table border=\"1\" class=\"dataframe\">\n",
       "  <thead>\n",
       "    <tr style=\"text-align: right;\">\n",
       "      <th></th>\n",
       "      <th>clump_thickness</th>\n",
       "      <th>size_uniformity</th>\n",
       "      <th>shape_uniformity</th>\n",
       "      <th>marginal_adhesion</th>\n",
       "      <th>epithelial_size</th>\n",
       "      <th>bare_nucleoli</th>\n",
       "      <th>bland_chromatin</th>\n",
       "      <th>normal_nucleoli</th>\n",
       "      <th>mitoses</th>\n",
       "      <th>class</th>\n",
       "    </tr>\n",
       "  </thead>\n",
       "  <tbody>\n",
       "    <tr>\n",
       "      <th>0</th>\n",
       "      <td>5</td>\n",
       "      <td>1</td>\n",
       "      <td>1</td>\n",
       "      <td>1</td>\n",
       "      <td>2</td>\n",
       "      <td>1</td>\n",
       "      <td>3</td>\n",
       "      <td>1</td>\n",
       "      <td>1</td>\n",
       "      <td>2</td>\n",
       "    </tr>\n",
       "    <tr>\n",
       "      <th>1</th>\n",
       "      <td>5</td>\n",
       "      <td>4</td>\n",
       "      <td>4</td>\n",
       "      <td>5</td>\n",
       "      <td>7</td>\n",
       "      <td>10</td>\n",
       "      <td>3</td>\n",
       "      <td>2</td>\n",
       "      <td>1</td>\n",
       "      <td>2</td>\n",
       "    </tr>\n",
       "    <tr>\n",
       "      <th>2</th>\n",
       "      <td>3</td>\n",
       "      <td>1</td>\n",
       "      <td>1</td>\n",
       "      <td>1</td>\n",
       "      <td>2</td>\n",
       "      <td>2</td>\n",
       "      <td>3</td>\n",
       "      <td>1</td>\n",
       "      <td>1</td>\n",
       "      <td>2</td>\n",
       "    </tr>\n",
       "    <tr>\n",
       "      <th>3</th>\n",
       "      <td>6</td>\n",
       "      <td>8</td>\n",
       "      <td>8</td>\n",
       "      <td>1</td>\n",
       "      <td>3</td>\n",
       "      <td>4</td>\n",
       "      <td>3</td>\n",
       "      <td>7</td>\n",
       "      <td>1</td>\n",
       "      <td>2</td>\n",
       "    </tr>\n",
       "    <tr>\n",
       "      <th>4</th>\n",
       "      <td>4</td>\n",
       "      <td>1</td>\n",
       "      <td>1</td>\n",
       "      <td>3</td>\n",
       "      <td>2</td>\n",
       "      <td>1</td>\n",
       "      <td>3</td>\n",
       "      <td>1</td>\n",
       "      <td>1</td>\n",
       "      <td>2</td>\n",
       "    </tr>\n",
       "  </tbody>\n",
       "</table>\n",
       "</div>"
      ],
      "text/plain": [
       "   clump_thickness  size_uniformity  shape_uniformity  marginal_adhesion  \\\n",
       "0                5                1                 1                  1   \n",
       "1                5                4                 4                  5   \n",
       "2                3                1                 1                  1   \n",
       "3                6                8                 8                  1   \n",
       "4                4                1                 1                  3   \n",
       "\n",
       "   epithelial_size bare_nucleoli  bland_chromatin  normal_nucleoli  mitoses  \\\n",
       "0                2             1                3                1        1   \n",
       "1                7            10                3                2        1   \n",
       "2                2             2                3                1        1   \n",
       "3                3             4                3                7        1   \n",
       "4                2             1                3                1        1   \n",
       "\n",
       "   class  \n",
       "0      2  \n",
       "1      2  \n",
       "2      2  \n",
       "3      2  \n",
       "4      2  "
      ]
     },
     "execution_count": 84,
     "metadata": {},
     "output_type": "execute_result"
    }
   ],
   "source": [
    "df.head()"
   ]
  },
  {
   "cell_type": "code",
   "execution_count": 85,
   "id": "5c439f63",
   "metadata": {},
   "outputs": [],
   "source": [
    "features = df.columns[:-1]"
   ]
  },
  {
   "cell_type": "code",
   "execution_count": 86,
   "id": "6e7b349b",
   "metadata": {},
   "outputs": [],
   "source": [
    "def remove_multicollinearity(features):\n",
    "    final_features = [x for x in features]\n",
    "    \n",
    "    CR = df[features].corr().values.tolist()\n",
    "    \n",
    "    for i in range(len(CR)):\n",
    "        for j in range(i+1,len(CR)):\n",
    "            if abs(CR[i][j])>0.7 and features[i] in final_features:\n",
    "                final_features.remove(features[i])\n",
    "    return final_features"
   ]
  },
  {
   "cell_type": "code",
   "execution_count": 87,
   "id": "f899b794",
   "metadata": {},
   "outputs": [],
   "source": [
    "final_features = remove_multicollinearity(features)"
   ]
  },
  {
   "cell_type": "code",
   "execution_count": 88,
   "id": "c95c102a",
   "metadata": {},
   "outputs": [
    {
     "data": {
      "text/html": [
       "<div>\n",
       "<style scoped>\n",
       "    .dataframe tbody tr th:only-of-type {\n",
       "        vertical-align: middle;\n",
       "    }\n",
       "\n",
       "    .dataframe tbody tr th {\n",
       "        vertical-align: top;\n",
       "    }\n",
       "\n",
       "    .dataframe thead th {\n",
       "        text-align: right;\n",
       "    }\n",
       "</style>\n",
       "<table border=\"1\" class=\"dataframe\">\n",
       "  <thead>\n",
       "    <tr style=\"text-align: right;\">\n",
       "      <th></th>\n",
       "      <th>clump_thickness</th>\n",
       "      <th>marginal_adhesion</th>\n",
       "      <th>epithelial_size</th>\n",
       "      <th>bare_nucleoli</th>\n",
       "      <th>bland_chromatin</th>\n",
       "      <th>normal_nucleoli</th>\n",
       "      <th>mitoses</th>\n",
       "    </tr>\n",
       "  </thead>\n",
       "  <tbody>\n",
       "    <tr>\n",
       "      <th>0</th>\n",
       "      <td>5</td>\n",
       "      <td>1</td>\n",
       "      <td>2</td>\n",
       "      <td>1</td>\n",
       "      <td>3</td>\n",
       "      <td>1</td>\n",
       "      <td>1</td>\n",
       "    </tr>\n",
       "    <tr>\n",
       "      <th>1</th>\n",
       "      <td>5</td>\n",
       "      <td>5</td>\n",
       "      <td>7</td>\n",
       "      <td>10</td>\n",
       "      <td>3</td>\n",
       "      <td>2</td>\n",
       "      <td>1</td>\n",
       "    </tr>\n",
       "    <tr>\n",
       "      <th>2</th>\n",
       "      <td>3</td>\n",
       "      <td>1</td>\n",
       "      <td>2</td>\n",
       "      <td>2</td>\n",
       "      <td>3</td>\n",
       "      <td>1</td>\n",
       "      <td>1</td>\n",
       "    </tr>\n",
       "    <tr>\n",
       "      <th>3</th>\n",
       "      <td>6</td>\n",
       "      <td>1</td>\n",
       "      <td>3</td>\n",
       "      <td>4</td>\n",
       "      <td>3</td>\n",
       "      <td>7</td>\n",
       "      <td>1</td>\n",
       "    </tr>\n",
       "    <tr>\n",
       "      <th>4</th>\n",
       "      <td>4</td>\n",
       "      <td>3</td>\n",
       "      <td>2</td>\n",
       "      <td>1</td>\n",
       "      <td>3</td>\n",
       "      <td>1</td>\n",
       "      <td>1</td>\n",
       "    </tr>\n",
       "    <tr>\n",
       "      <th>...</th>\n",
       "      <td>...</td>\n",
       "      <td>...</td>\n",
       "      <td>...</td>\n",
       "      <td>...</td>\n",
       "      <td>...</td>\n",
       "      <td>...</td>\n",
       "      <td>...</td>\n",
       "    </tr>\n",
       "    <tr>\n",
       "      <th>694</th>\n",
       "      <td>3</td>\n",
       "      <td>1</td>\n",
       "      <td>3</td>\n",
       "      <td>2</td>\n",
       "      <td>1</td>\n",
       "      <td>1</td>\n",
       "      <td>1</td>\n",
       "    </tr>\n",
       "    <tr>\n",
       "      <th>695</th>\n",
       "      <td>2</td>\n",
       "      <td>1</td>\n",
       "      <td>2</td>\n",
       "      <td>1</td>\n",
       "      <td>1</td>\n",
       "      <td>1</td>\n",
       "      <td>1</td>\n",
       "    </tr>\n",
       "    <tr>\n",
       "      <th>696</th>\n",
       "      <td>5</td>\n",
       "      <td>3</td>\n",
       "      <td>7</td>\n",
       "      <td>3</td>\n",
       "      <td>8</td>\n",
       "      <td>10</td>\n",
       "      <td>2</td>\n",
       "    </tr>\n",
       "    <tr>\n",
       "      <th>697</th>\n",
       "      <td>4</td>\n",
       "      <td>4</td>\n",
       "      <td>3</td>\n",
       "      <td>4</td>\n",
       "      <td>10</td>\n",
       "      <td>6</td>\n",
       "      <td>1</td>\n",
       "    </tr>\n",
       "    <tr>\n",
       "      <th>698</th>\n",
       "      <td>4</td>\n",
       "      <td>5</td>\n",
       "      <td>4</td>\n",
       "      <td>5</td>\n",
       "      <td>10</td>\n",
       "      <td>4</td>\n",
       "      <td>1</td>\n",
       "    </tr>\n",
       "  </tbody>\n",
       "</table>\n",
       "<p>699 rows × 7 columns</p>\n",
       "</div>"
      ],
      "text/plain": [
       "     clump_thickness  marginal_adhesion  epithelial_size bare_nucleoli  \\\n",
       "0                  5                  1                2             1   \n",
       "1                  5                  5                7            10   \n",
       "2                  3                  1                2             2   \n",
       "3                  6                  1                3             4   \n",
       "4                  4                  3                2             1   \n",
       "..               ...                ...              ...           ...   \n",
       "694                3                  1                3             2   \n",
       "695                2                  1                2             1   \n",
       "696                5                  3                7             3   \n",
       "697                4                  4                3             4   \n",
       "698                4                  5                4             5   \n",
       "\n",
       "     bland_chromatin  normal_nucleoli  mitoses  \n",
       "0                  3                1        1  \n",
       "1                  3                2        1  \n",
       "2                  3                1        1  \n",
       "3                  3                7        1  \n",
       "4                  3                1        1  \n",
       "..               ...              ...      ...  \n",
       "694                1                1        1  \n",
       "695                1                1        1  \n",
       "696                8               10        2  \n",
       "697               10                6        1  \n",
       "698               10                4        1  \n",
       "\n",
       "[699 rows x 7 columns]"
      ]
     },
     "execution_count": 88,
     "metadata": {},
     "output_type": "execute_result"
    }
   ],
   "source": [
    "df[final_features]"
   ]
  },
  {
   "cell_type": "code",
   "execution_count": 89,
   "id": "7feb54f8",
   "metadata": {},
   "outputs": [
    {
     "name": "stdout",
     "output_type": "stream",
     "text": [
      "?\n"
     ]
    }
   ],
   "source": [
    "print(df['bare_nucleoli'][40])"
   ]
  },
  {
   "cell_type": "code",
   "execution_count": 90,
   "id": "24e5369a",
   "metadata": {},
   "outputs": [],
   "source": [
    "le1 = LabelEncoder()\n",
    "# le2 = LabelEncoder()\n",
    "\n",
    "df['class'] = le1.fit_transform(df['class'])"
   ]
  },
  {
   "cell_type": "code",
   "execution_count": 91,
   "id": "eefee7eb",
   "metadata": {},
   "outputs": [],
   "source": [
    "# df['bare_nucleoli'] = le2.fit_transform(df['bare_nucleoli'])"
   ]
  },
  {
   "cell_type": "code",
   "execution_count": 92,
   "id": "f2a01b25",
   "metadata": {},
   "outputs": [
    {
     "name": "stdout",
     "output_type": "stream",
     "text": [
      "?\n"
     ]
    }
   ],
   "source": [
    "print(df['bare_nucleoli'][40])\n",
    "# print(sum(df['bare_nucleoli'])/699)"
   ]
  },
  {
   "cell_type": "code",
   "execution_count": 93,
   "id": "bf44fb1e",
   "metadata": {},
   "outputs": [],
   "source": [
    "df['bare_nucleoli'] = df['bare_nucleoli'].replace('?','1')"
   ]
  },
  {
   "cell_type": "code",
   "execution_count": 94,
   "id": "25fb1345",
   "metadata": {},
   "outputs": [],
   "source": [
    "X = df[final_features]\n",
    "Y = df['class']"
   ]
  },
  {
   "cell_type": "code",
   "execution_count": 95,
   "id": "a00250f4",
   "metadata": {},
   "outputs": [],
   "source": [
    "def makeCPT(x,y,unique_quantities):\n",
    "    y = list(y)\n",
    "    \n",
    "    CPT_YES_FEATURES = {}\n",
    "    CPT_NO_FEATURES = {}\n",
    "    \n",
    "    for k in range(len(x[0])):\n",
    "        CPT_YES = {}\n",
    "        CPT_NO = {}\n",
    "        for j in range(len(unique_quantities)):\n",
    "            yeslist=[]\n",
    "            nolist=[]\n",
    "            for i in range(len(x)):\n",
    "                if(x[i][k]==j and y[i]==1):\n",
    "                    yeslist.append(1)\n",
    "                if(x[i][k]==j and y[i]==1):\n",
    "                    nolist.append(0)\n",
    "                    \n",
    "            CPT_YES[j] = len(yeslist)/y.count(1)\n",
    "            CPT_NO[j] = len(nolist)/y.count(0)\n",
    "            \n",
    "        CPT_YES_FEATURES[final_features[k]] = CPT_YES\n",
    "        CPT_NO_FEATURES[final_features[k]] = CPT_NO\n",
    "    \n",
    "    return (CPT_YES_FEATURES,CPT_NO_FEATURES)"
   ]
  },
  {
   "cell_type": "code",
   "execution_count": 96,
   "id": "20ca578e",
   "metadata": {},
   "outputs": [],
   "source": [
    "def testNaiveBayes(x_test,y_test,yCPT,nCPT,y_prob):\n",
    "#     print(x_test)\n",
    "    Y_posterior = []\n",
    "    for i in range(len(x_test)):\n",
    "        num = y_prob\n",
    "        denom = (1-y_prob)\n",
    "        for j in range(len(x_test[0])):\n",
    "            num *= yCPT[final_features[j]][x_test[i][j]]\n",
    "            denom *= nCPT[final_features[j]][x_test[i][j]]\n",
    "        denom+=num\n",
    "        posterior_prob = num/denom\n",
    "#             print(yCPT[final_features[j]][x_test[i][j]]) \n",
    "        Y_posterior.append(posterior_prob)\n",
    "        \n",
    "    print(Y_posterior)\n",
    "    \n",
    "    for i in range(len(Y_posterior)):\n",
    "        if (Y_posterior[i]<0.5):\n",
    "            Y_posterior[i]=0\n",
    "        else:\n",
    "            Y_posterior[i]=1\n",
    "    \n",
    "    match_count = 0\n",
    "    for i in range(len(y_test)):\n",
    "        if (Y_posterior[i]==y_test[i]):\n",
    "            match_count +=1\n",
    "    \n",
    "    acc = match_count/len(y_test)\n",
    "    \n",
    "    return acc"
   ]
  },
  {
   "cell_type": "code",
   "execution_count": 97,
   "id": "eb387e78",
   "metadata": {},
   "outputs": [],
   "source": [
    "def naiveBayesClassifier(x_train,y_train,x_test,y_test):\n",
    "    no_of_features = len(x_train[0])\n",
    "#     identifying unique quantities\n",
    "    unique_quantities = [set()]*7\n",
    "    \n",
    "    for j in range(no_of_features):\n",
    "        for i in range(len(x_train)):\n",
    "            unique_quantities[j].add(x_train[i][j])\n",
    "\n",
    "    CPTtup = makeCPT(x_train,y_train,unique_quantities)\n",
    "    \n",
    "    yCPT = CPTtup[0]\n",
    "    nCPT = CPTtup[1]\n",
    "    print(yCPT)\n",
    "    print(nCPT)\n",
    "    y_prob = list(y_train).count(1)/len(y_train)\n",
    "    print(y_prob)\n",
    "    accuracy = testNaiveBayes(x_test,y_test,yCPT,nCPT,y_prob)\n",
    "    \n",
    "    return accuracy\n",
    "    pass"
   ]
  },
  {
   "cell_type": "code",
   "execution_count": 98,
   "id": "d820bf9e",
   "metadata": {},
   "outputs": [],
   "source": [
    "X_train,X_test,Y_train,Y_test = train_test_split(X.to_numpy(),Y.to_numpy(),test_size=0.33)"
   ]
  },
  {
   "cell_type": "code",
   "execution_count": 99,
   "id": "fa0ec24e",
   "metadata": {},
   "outputs": [
    {
     "name": "stdout",
     "output_type": "stream",
     "text": [
      "{'clump_thickness': {1: 0.019230769230769232, 2: 0.019230769230769232, 3: 0.038461538461538464, 4: 0.05128205128205128, 5: 0.1794871794871795, 6: 0.057692307692307696, 7: 0.12179487179487179, 8: 0.16025641025641027, 9: 0.05128205128205128, 10: 0.30128205128205127, '3': 0.0, '6': 0.0, '4': 0.0, '8': 0.0, '1': 0.0, '10': 0.0, '7': 0.0, '9': 0.0, '2': 0.0, '5': 0.0}, 'marginal_adhesion': {1: 0.14743589743589744, 2: 0.0641025641025641, 3: 0.11538461538461539, 4: 0.1282051282051282, 5: 0.0641025641025641, 6: 0.07051282051282051, 7: 0.04487179487179487, 8: 0.10897435897435898, 9: 0.019230769230769232, 10: 0.23717948717948717, '3': 0.0, '6': 0.0, '4': 0.0, '8': 0.0, '1': 0.0, '10': 0.0, '7': 0.0, '9': 0.0, '2': 0.0, '5': 0.0}, 'epithelial_size': {1: 0.00641025641025641, 2: 0.08974358974358974, 3: 0.14102564102564102, 4: 0.1987179487179487, 5: 0.14743589743589744, 6: 0.16025641025641027, 7: 0.03205128205128205, 8: 0.08333333333333333, 9: 0.00641025641025641, 10: 0.1346153846153846, '3': 0.0, '6': 0.0, '4': 0.0, '8': 0.0, '1': 0.0, '10': 0.0, '7': 0.0, '9': 0.0, '2': 0.0, '5': 0.0}, 'bare_nucleoli': {1: 0.0, 2: 0.0, 3: 0.0, 4: 0.0, 5: 0.0, 6: 0.0, 7: 0.0, 8: 0.0, 9: 0.0, 10: 0.0, '3': 0.04487179487179487, '6': 0.02564102564102564, '4': 0.07051282051282051, '8': 0.07692307692307693, '1': 0.07692307692307693, '10': 0.5192307692307693, '7': 0.04487179487179487, '9': 0.019230769230769232, '2': 0.02564102564102564, '5': 0.09615384615384616}, 'bland_chromatin': {1: 0.01282051282051282, 2: 0.038461538461538464, 3: 0.15384615384615385, 4: 0.12179487179487179, 5: 0.1282051282051282, 6: 0.02564102564102564, 7: 0.27564102564102566, 8: 0.12179487179487179, 9: 0.03205128205128205, 10: 0.08974358974358974, '3': 0.0, '6': 0.0, '4': 0.0, '8': 0.0, '1': 0.0, '10': 0.0, '7': 0.0, '9': 0.0, '2': 0.0, '5': 0.0}, 'normal_nucleoli': {1: 0.14102564102564102, 2: 0.03205128205128205, 3: 0.12179487179487179, 4: 0.08333333333333333, 5: 0.07692307692307693, 6: 0.08974358974358974, 7: 0.0641025641025641, 8: 0.09615384615384616, 9: 0.057692307692307696, 10: 0.23717948717948717, '3': 0.0, '6': 0.0, '4': 0.0, '8': 0.0, '1': 0.0, '10': 0.0, '7': 0.0, '9': 0.0, '2': 0.0, '5': 0.0}, 'mitoses': {1: 0.5576923076923077, 2: 0.10897435897435898, 3: 0.1346153846153846, 4: 0.05128205128205128, 5: 0.019230769230769232, 6: 0.00641025641025641, 7: 0.038461538461538464, 8: 0.03205128205128205, 9: 0.0, 10: 0.05128205128205128, '3': 0.0, '6': 0.0, '4': 0.0, '8': 0.0, '1': 0.0, '10': 0.0, '7': 0.0, '9': 0.0, '2': 0.0, '5': 0.0}}\n",
      "{'clump_thickness': {1: 0.30448717948717946, 2: 0.09294871794871795, 3: 0.22435897435897437, 4: 0.15064102564102563, 5: 0.18269230769230768, 6: 0.03205128205128205, 7: 0.003205128205128205, 8: 0.009615384615384616, 9: 0.0, 10: 0.0, '3': 0.0, '6': 0.0, '4': 0.0, '8': 0.0, '1': 0.0, '10': 0.0, '7': 0.0, '9': 0.0, '2': 0.0, '5': 0.0}, 'marginal_adhesion': {1: 0.8108974358974359, 2: 0.10256410256410256, 3: 0.07051282051282051, 4: 0.00641025641025641, 5: 0.003205128205128205, 6: 0.003205128205128205, 7: 0.0, 8: 0.0, 9: 0.003205128205128205, 10: 0.0, '3': 0.0, '6': 0.0, '4': 0.0, '8': 0.0, '1': 0.0, '10': 0.0, '7': 0.0, '9': 0.0, '2': 0.0, '5': 0.0}, 'epithelial_size': {1: 0.09294871794871795, 2: 0.7980769230769231, 3: 0.07051282051282051, 4: 0.009615384615384616, 5: 0.01282051282051282, 6: 0.003205128205128205, 7: 0.00641025641025641, 8: 0.003205128205128205, 9: 0.0, 10: 0.003205128205128205, '3': 0.0, '6': 0.0, '4': 0.0, '8': 0.0, '1': 0.0, '10': 0.0, '7': 0.0, '9': 0.0, '2': 0.0, '5': 0.0}, 'bare_nucleoli': {1: 0.0, 2: 0.0, 3: 0.0, 4: 0.0, 5: 0.0, 6: 0.0, 7: 0.0, 8: 0.0, 9: 0.0, 10: 0.0, '3': 0.028846153846153848, '6': 0.0, '4': 0.009615384615384616, '8': 0.003205128205128205, '1': 0.8814102564102564, '10': 0.003205128205128205, '7': 0.0, '9': 0.0, '2': 0.05128205128205128, '5': 0.022435897435897436}, 'bland_chromatin': {1: 0.34294871794871795, 2: 0.36538461538461536, 3: 0.25, 4: 0.016025641025641024, 5: 0.009615384615384616, 6: 0.003205128205128205, 7: 0.01282051282051282, 8: 0.0, 9: 0.0, 10: 0.0, '3': 0.0, '6': 0.0, '4': 0.0, '8': 0.0, '1': 0.0, '10': 0.0, '7': 0.0, '9': 0.0, '2': 0.0, '5': 0.0}, 'normal_nucleoli': {1: 0.875, 2: 0.07051282051282051, 3: 0.03205128205128205, 4: 0.003205128205128205, 5: 0.0, 6: 0.00641025641025641, 7: 0.003205128205128205, 8: 0.00641025641025641, 9: 0.003205128205128205, 10: 0.0, '3': 0.0, '6': 0.0, '4': 0.0, '8': 0.0, '1': 0.0, '10': 0.0, '7': 0.0, '9': 0.0, '2': 0.0, '5': 0.0}, 'mitoses': {1: 0.9807692307692307, 2: 0.009615384615384616, 3: 0.003205128205128205, 4: 0.0, 5: 0.003205128205128205, 6: 0.0, 7: 0.0, 8: 0.003205128205128205, 9: 0.0, 10: 0.0, '3': 0.0, '6': 0.0, '4': 0.0, '8': 0.0, '1': 0.0, '10': 0.0, '7': 0.0, '9': 0.0, '2': 0.0, '5': 0.0}}\n",
      "0.3333333333333333\n",
      "[[4 1 2 ... 1 1 1]\n",
      " [1 1 2 ... 2 1 1]\n",
      " [5 1 2 ... 2 1 1]\n",
      " ...\n",
      " [1 1 1 ... 2 1 1]\n",
      " [10 4 3 ... 7 3 1]\n",
      " [4 5 4 ... 10 4 1]]\n",
      "[1.040543605506403e-06, 5.43583420287494e-07, 8.455675190717223e-06, 1.0, 0.4982010407377778, 1.0, 3.0316729666276682e-05, 1.040543605506403e-06, 1.8012074827193671e-06, 1.0, 1.780702104894574e-06, 0.9988700820381256, 1.9304838515551376e-07, 1.7128673009923452e-05, 1.0, 4.9514468547555485e-05, 0.9998975398046901, 4.943115247284794e-05, 1.083406840497979e-05, 1.0, 1.0, 4.760881645644614e-05, 0.0007824850442582561, 0.9999747426703417, 1.0, 8.625583681881219e-06, 3.0029664420819114e-06, 1.7128673009923452e-05, 1.475439337310007e-06, 1.0, 0.0009842929200229425, 1.12475592851271e-05, 1.0, 3.114272006215336e-06, 1.041016862424686e-05, 1.0, 6.323996045602803e-07, 1.0, 6.323996045602803e-07, 3.333800495150375e-07, 1.0, 3.1778639318075686e-06, 1.0, 1.475439337310007e-06, 1.0, 1.9489879098969723e-06, 9.048881886750975e-07, 3.0029664420819114e-06, 1.0, 0.9999642458224556, 1.0, 0.9999983170045085, 1.9304838515551376e-07, 1.0, 1.9304838515551376e-07, 1.041016862424686e-05, 1.475439337310007e-06, 0.9999998769964318, 1.0, 1.0, 1.475439337310007e-06, 1.7128673009923452e-05, 1.1839667855211841e-07, 4.943115247284794e-05, 1.0, 6.323996045602803e-07, 0.000631990324054148, 1.0, 1.9304838515551376e-07, 0.9999906952152059, 0.0001510529728980976, 8.625583681881219e-06, 5.43583420287494e-07, 0.9999799440226443, 3.333800495150375e-07, 1.1839667855211841e-07, 4.402765703075606e-05, 0.05188417247781335, 1.0, 1.0, 1.040543605506403e-06, 0.017872144811119275, 1.0, 1.0, 3.1778639318075686e-06, 3.0029664420819114e-06, 3.105439295806704e-05, 2.4325902623650995e-05, 1.0, 0.9999704932101858, 8.962312345347667e-06, 8.455675190717223e-06, 1.0, 1.040543605506403e-06, 1.780702104894574e-06, 1.0, 1.0, 1.0, 1.0, 1.9489879098969723e-06, 9.364814493574922e-06, 1.9304838515551376e-07, 1.9304838515551376e-07, 3.1778639318075686e-06, 1.0, 1.0, 1.0, 5.43583420287494e-07, 0.005864335373349566, 5.43583420287494e-07, 1.780702104894574e-06, 0.00642112044144574, 4.830559857361258e-05, 5.43583420287494e-07, 4.830559857361258e-05, 1.0, 1.475439337310007e-06, 0.9998014533200869, 1.0, 2.702604871219845e-05, 1.475439337310007e-06, 1.0, 1.0, 0.855625898255158, 1.0, 3.1778639318075686e-06, 0.005408286945640942, 8.625583681881219e-06, 3.1778639318075686e-06, 0.9715914456908401, 8.455675190717223e-06, 5.43583420287494e-07, 1.9304838515551376e-07, 1.0, 0.9646527621380822, 0.995711891283273, 1.0, 0.3892068683565003, 2.929946195430196e-06, 8.625583681881219e-06, 1.9304838515551376e-07, 5.239883005848027e-07, 1.7128673009923452e-05, 0.9999837738653251, 5.501849768543781e-06, 3.1778639318075686e-06, 8.625583681881219e-06, 2.3846733451000508e-05, 1.0, 1.0, 3.0029664420819114e-06, 0.9972841460289312, 8.455675190717223e-06, 1.475439337310007e-06, 1.0, 0.01930776836530567, 3.1778639318075686e-06, 1.0, 3.333800495150375e-07, 5.43583420287494e-07, 0.9715914456908401, 0.00033021822049742605, 1.0, 1.0, 1.0, 1.040543605506403e-06, 1.0, 3.0029664420819114e-06, 1.0, 1.041016862424686e-05, 1.780702104894574e-06, 0.009003391247605609, 5.239883005848027e-07, 1.0, 3.333800495150375e-07, 5.43583420287494e-07, 9.05612077986289e-05, 8.455675190717223e-06, 8.625583681881219e-06, 1.0, 1.0, 1.9304838515551376e-07, 1.0, 1.0923822649184911e-05, 3.333800495150375e-07, 1.0, 1.041016862424686e-05, 1.780702104894574e-06, 1.0, 0.6256980356607104, 0.9850751033569045, 1.780702104894574e-06, 0.00015413693579993448, 0.9781545221087372, 0.9998935482739791, 1.040543605506403e-06, 1.0, 1.0, 1.0, 8.625583681881219e-06, 1.0, 3.1778639318075686e-06, 1.0, 1.7374327831308792e-06, 1.0, 2.929946195430196e-06, 1.0, 4.943115247284794e-05, 0.0013817873393176662, 0.00022301319513646473, 1.0, 8.455675190717223e-06, 1.0, 0.9438087973557081, 0.9999971371373059, 1.0, 1.841722936915388e-06, 4.943115247284794e-05, 3.1778639318075686e-06, 2.929946195430196e-06, 3.1778639318075686e-06, 0.00027668761719591776, 5.43583420287494e-07, 6.323996045602803e-07, 1.0, 9.048881886750975e-07, 1.0, 1.0, 3.333800495150375e-07, 1.0, 1.0]\n"
     ]
    }
   ],
   "source": [
    "accuracy = naiveBayesClassifier(X_train,Y_train,X_test,Y_test)"
   ]
  },
  {
   "cell_type": "code",
   "execution_count": 100,
   "id": "83660b75",
   "metadata": {},
   "outputs": [
    {
     "data": {
      "text/plain": [
       "0.961038961038961"
      ]
     },
     "execution_count": 100,
     "metadata": {},
     "output_type": "execute_result"
    }
   ],
   "source": [
    "accuracy"
   ]
  }
 ],
 "metadata": {
  "kernelspec": {
   "display_name": "Python 3 (ipykernel)",
   "language": "python",
   "name": "python3"
  },
  "language_info": {
   "codemirror_mode": {
    "name": "ipython",
    "version": 3
   },
   "file_extension": ".py",
   "mimetype": "text/x-python",
   "name": "python",
   "nbconvert_exporter": "python",
   "pygments_lexer": "ipython3",
   "version": "3.10.1"
  }
 },
 "nbformat": 4,
 "nbformat_minor": 5
}
