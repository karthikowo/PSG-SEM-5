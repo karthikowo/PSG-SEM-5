{
 "cells": [
  {
   "cell_type": "code",
   "execution_count": 32,
   "id": "fb8ac664",
   "metadata": {},
   "outputs": [],
   "source": [
    "# x and y values \n",
    "import numpy as np\n",
    "soap = np.array([4,4.5,5,5.5,6,6.5,7])\n",
    "sud = np.array([33,42,45,51,53,61,62])\n",
    "y = soap\n",
    "x=[]\n",
    "for i in soap:\n",
    "    x.append([1,i])\n",
    "    \n",
    "x=np.array(x)\n",
    "x_tp = x.T"
   ]
  },
  {
   "cell_type": "code",
   "execution_count": 34,
   "id": "470e8e8a",
   "metadata": {},
   "outputs": [
    {
     "name": "stdout",
     "output_type": "stream",
     "text": [
      "1 padded X matrix [[  7.    38.5 ]\n",
      " [ 38.5  218.75]]\n",
      "Inverse matrix [[ 4.46428571 -0.78571429]\n",
      " [-0.78571429  0.14285714]]\n",
      "xty : [ 347. 1975.]\n",
      "x- intecept , slope : (-2.6785714285711038, 9.5)\n"
     ]
    }
   ],
   "source": [
    "# 1 padded matrix\n",
    "xtx = x_tp.dot(x)\n",
    "print(f\"1 padded X matrix {xtx}\")\n",
    "\n",
    "# taking inverse\n",
    "xtxi = np.linalg.inv(xtx)\n",
    "print(f\"Inverse matrix {xtxi}\")\n",
    "\n",
    "# finding xty\n",
    "y=sud.T\n",
    "xty= x_tp.dot(y)\n",
    "print(f\"xty : {xty}\")\n",
    "\n",
    "# finding the slope , intercept values\n",
    "B = xtxi.dot(xty)\n",
    "b0=B[0]\n",
    "b1=B[1]\n",
    "print(f\"x- intecept , slope : {b0,b1}\")\n",
    "\n",
    "# machine learning generated y values\n",
    "y_cap=[]\n",
    "for i in soap:\n",
    "    y_cap.append(b0+b1*i)"
   ]
  },
  {
   "cell_type": "code",
   "execution_count": 36,
   "id": "32a4f41a",
   "metadata": {},
   "outputs": [
    {
     "data": {
      "text/plain": [
       "[<matplotlib.lines.Line2D at 0x20a02860790>]"
      ]
     },
     "execution_count": 36,
     "metadata": {},
     "output_type": "execute_result"
    },
    {
     "data": {
      "image/png": "[encoded data removed]",
      "text/plain": [
       "<Figure size 432x288 with 1 Axes>"
      ]
     },
     "metadata": {
      "needs_background": "light"
     },
     "output_type": "display_data"
    }
   ],
   "source": [
    "# plots\n",
    "import matplotlib.pyplot as plt\n",
    "\n",
    "plt.scatter(soap,sud)\n",
    "plt.plot(soap,y_cap)"
   ]
  },
  {
   "cell_type": "code",
   "execution_count": 37,
   "id": "01c2ebb6",
   "metadata": {},
   "outputs": [
    {
     "name": "stdout",
     "output_type": "stream",
     "text": [
      "37.696428571428896\n"
     ]
    }
   ],
   "source": [
    "# prediction / forecasting\n",
    "# sud for soap 4.25\n",
    "print(b0+b1*4.25)"
   ]
  },
  {
   "cell_type": "code",
   "execution_count": 42,
   "id": "5ea95c24",
   "metadata": {},
   "outputs": [
    {
     "name": "stdout",
     "output_type": "stream",
     "text": [
      "19.964285714285715\n",
      "-2.2737367544323206e-12\n"
     ]
    }
   ],
   "source": [
    "# finding sum of squared error\n",
    "SSE=0\n",
    "for i in range(0,len(y)):\n",
    "    SSE+=(y[i]-y_cap[i])**2\n",
    "print(SSE)\n",
    "\n",
    "# error\n",
    "SE=0\n",
    "for i in range(0,len(y)):\n",
    "    SE+=(y[i]-y_cap[i])\n",
    "print(SE)"
   ]
  },
  {
   "cell_type": "code",
   "execution_count": null,
   "id": "c1ab430a",
   "metadata": {},
   "outputs": [],
   "source": []
  }
 ],
 "metadata": {
  "kernelspec": {
   "display_name": "Python 3 (ipykernel)",
   "language": "python",
   "name": "python3"
  },
  "language_info": {
   "codemirror_mode": {
    "name": "ipython",
    "version": 3
   },
   "file_extension": ".py",
   "mimetype": "text/x-python",
   "name": "python",
   "nbconvert_exporter": "python",
   "pygments_lexer": "ipython3",
   "version": "3.9.7"
  }
 },
 "nbformat": 4,
 "nbformat_minor": 5
}
