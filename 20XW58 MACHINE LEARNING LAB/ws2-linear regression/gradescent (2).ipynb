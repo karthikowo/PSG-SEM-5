{
 "cells": [
  {
   "cell_type": "code",
   "execution_count": null,
   "id": "0ef0b4b6",
   "metadata": {},
   "outputs": [],
   "source": [
    "# x and y values \n",
    "import numpy as np\n",
    "soap = np.array([4,4.5,5,5.5,6,6.5,7])\n",
    "sud = np.array([33,42,45,51,53,61,62])\n",
    "x = [4,4.5,5,5.5,6,6.5,7]\n",
    "y = [33,42,45,51,53,61,62]"
   ]
  },
  {
   "cell_type": "code",
   "execution_count": null,
   "id": "b1925716",
   "metadata": {
    "scrolled": true
   },
   "outputs": [],
   "source": [
    "b0=0\n",
    "b1=0\n",
    "count=0\n",
    "\n",
    "while(1): \n",
    "    pard_b0=0\n",
    "    pard_b1=0\n",
    "    for i in range(7):\n",
    "            pard_b0 += 2*(y[i]-b0-b1*x[i])*-1\n",
    "            pard_b1 += 2*(y[i]-b0-b1*x[i])*(-x[i])\n",
    "    b0new = b0-0.001*pard_b0\n",
    "    b1new = b1-0.001*pard_b1\n",
    "    if(b0new==b0 and b1new==b1):\n",
    "        break\n",
    "#     print(\"y intercept, slope\",b0new,b1new)\n",
    "    b0=b0new\n",
    "    b1=b1new\n",
    "    count+=1\n",
    "\n",
    "print(b0,b1,count)"
   ]
  },
  {
   "cell_type": "code",
   "execution_count": null,
   "id": "e3f39337",
   "metadata": {},
   "outputs": [],
   "source": []
  },
  {
   "cell_type": "code",
   "execution_count": null,
   "id": "9c41b5fb",
   "metadata": {},
   "outputs": [],
   "source": []
  },
  {
   "cell_type": "code",
   "execution_count": null,
   "id": "287a0ca5",
   "metadata": {},
   "outputs": [],
   "source": []
  }
 ],
 "metadata": {
  "kernelspec": {
   "display_name": "Python 3 (ipykernel)",
   "language": "python",
   "name": "python3"
  },
  "language_info": {
   "codemirror_mode": {
    "name": "ipython",
    "version": 3
   },
   "file_extension": ".py",
   "mimetype": "text/x-python",
   "name": "python",
   "nbconvert_exporter": "python",
   "pygments_lexer": "ipython3",
   "version": "3.9.7"
  }
 },
 "nbformat": 4,
 "nbformat_minor": 5
}
