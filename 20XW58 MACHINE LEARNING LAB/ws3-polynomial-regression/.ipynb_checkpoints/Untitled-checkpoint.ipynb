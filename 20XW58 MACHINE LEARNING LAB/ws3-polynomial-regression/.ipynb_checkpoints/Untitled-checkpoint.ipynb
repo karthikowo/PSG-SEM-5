{
 "cells": [
  {
   "cell_type": "code",
   "execution_count": 3,
   "id": "190f279c",
   "metadata": {},
   "outputs": [],
   "source": [
    "# 20pw16\n",
    "import numpy as np\n",
    "import matplotlib.pyplot as plt\n",
    "import pandas as pd"
   ]
  },
  {
   "cell_type": "code",
   "execution_count": 4,
   "id": "3ff939d1",
   "metadata": {},
   "outputs": [],
   "source": [
    "def polynomial_regression(x,y,deg):\n",
    "    \n",
    "    X = []\n",
    "    for i in x:\n",
    "        row=[]\n",
    "        for j in range(0,deg+1):\n",
    "            row.append(i**j)\n",
    "        X.append(row)\n",
    "    \n",
    "#     xtxi calc\n",
    "    X = np.array(X)\n",
    "    X_tp = X.T\n",
    "    XTX = X_tp.dot(X)\n",
    "    XTXi = np.linalg.inv(XTX)\n",
    "    \n",
    "#     xty calc\n",
    "    Y=np.array(y)\n",
    "    Y=Y.T\n",
    "    XTY=X_tp.dot(Y)\n",
    "    \n",
    "    print(XTX,XTY,XTXi)\n",
    "    \n",
    "    B = XTXi.dot(XTY)\n",
    "    print(f\"The B values : {B}\")\n",
    "\n",
    "    y_cap =[]\n",
    "    \n",
    "    for i in x:\n",
    "        term=0\n",
    "        for j in range(0,deg+1):\n",
    "            term += (i**j)*B[j]\n",
    "        y_cap.append(term)\n",
    "    \n",
    "    print(y_cap)\n",
    "    \n",
    "    plt.scatter(x,y)\n",
    "    plt.scatter(x,y_cap)\n",
    "    plt.show()\n",
    "    \n",
    "#     measures\n",
    "\n",
    "    SSE=0\n",
    "    SSR=0\n",
    "    y_bar=sum(y)/len(y)\n",
    "    for i in range(0,len(y)):\n",
    "        SSE += (y_cap[i]-y[i])**2\n",
    "        SSR += (y_cap[i]-y_bar)**2\n",
    "    \n",
    "    print(f\"SSE = {SSE} \\n, SSR = {SSR}\\n SST = {SSE+SSR}.\")\n",
    "    print(f\"Co-efficient of Determination = {SSR/(SSE+SSR)}\")"
   ]
  },
  {
   "cell_type": "code",
   "execution_count": null,
   "id": "a27ae71e",
   "metadata": {},
   "outputs": [],
   "source": [
    "x = np.array([1,2,3,4,5,6])\n",
    "y = np.array([1,2,3,4,5,6])\n",
    "polynomial_regression(x,y,2)"
   ]
  }
 ],
 "metadata": {
  "kernelspec": {
   "display_name": "Python 3 (ipykernel)",
   "language": "python",
   "name": "python3"
  },
  "language_info": {
   "codemirror_mode": {
    "name": "ipython",
    "version": 3
   },
   "file_extension": ".py",
   "mimetype": "text/x-python",
   "name": "python",
   "nbconvert_exporter": "python",
   "pygments_lexer": "ipython3",
   "version": "3.10.1"
  }
 },
 "nbformat": 4,
 "nbformat_minor": 5
}
