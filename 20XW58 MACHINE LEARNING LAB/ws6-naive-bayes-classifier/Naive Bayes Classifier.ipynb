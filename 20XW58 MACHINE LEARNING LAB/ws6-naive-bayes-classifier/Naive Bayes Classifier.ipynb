{
 "cells": [
  {
   "cell_type": "code",
   "execution_count": 3,
   "id": "54799692",
   "metadata": {
    "scrolled": false
   },
   "outputs": [],
   "source": [
    "import matplotlib.pyplot as plt\n",
    "import pandas as pd\n",
    "import numpy as np\n",
    "from sklearn.model_selection import train_test_split\n",
    "\n",
    "df = pd.read_csv(r\"D:PSG/PSG-Z/SEM 5/20XW58 MACHINE LEARNING LAB/ws6-naive-bayes-classifier/datasets/wbc_original.csv\")\n",
    "del df['id']"
   ]
  },
  {
   "cell_type": "code",
   "execution_count": 5,
   "id": "500b3adb",
   "metadata": {},
   "outputs": [],
   "source": [
    "features = df.columns\n",
    "features = list(features)\n",
    "features = features[0:len(features)-1]"
   ]
  },
  {
   "cell_type": "code",
   "execution_count": 6,
   "id": "fed0f4c1",
   "metadata": {},
   "outputs": [],
   "source": [
    "def remove_multicollinearity(features):    \n",
    "    final_features = [x for x in features]\n",
    "    CR = df[features].corr().values.tolist()\n",
    "\n",
    "    for i in range(len(CR)):\n",
    "        for j in range(i+1,len(CR)):\n",
    "            if abs(CR[i][j])>0.7 and features[i] in final_features:\n",
    "                final_features.remove(features[i])\n",
    "\n",
    "    return final_features\n"
   ]
  },
  {
   "cell_type": "code",
   "execution_count": 10,
   "id": "af8ef8d6",
   "metadata": {},
   "outputs": [
    {
     "name": "stdout",
     "output_type": "stream",
     "text": [
      "['clump_thickness', 'marginal_adhesion', 'epithelial_size', 'bare_nucleoli', 'bland_chromatin', 'normal_nucleoli', 'mitoses']\n"
     ]
    }
   ],
   "source": [
    "final_features = remove_multicollinearity(features)\n",
    "print(final_features)"
   ]
  },
  {
   "cell_type": "code",
   "execution_count": 11,
   "id": "792e076f",
   "metadata": {},
   "outputs": [],
   "source": [
    "features_list = []\n",
    "for i in range(0,len(final_features)):\n",
    "    features_list.append(np.array(df[final_features[i]]))\n",
    "\n",
    "y = df['class']\n",
    "for i in range(len(y)):\n",
    "    if y[i]==2:\n",
    "        y[i]=0\n",
    "    elif y[i]==4:\n",
    "        y[i]=1\n",
    "\n",
    "final_features.remove('bare_nucleoli') #dataset char problem\n",
    "x_data = df[final_features]\n",
    "y_data = pd.DataFrame(y)"
   ]
  },
  {
   "cell_type": "code",
   "execution_count": 12,
   "id": "658b6108",
   "metadata": {},
   "outputs": [],
   "source": [
    "def makeCPT(x,y,unique_quantities):\n",
    "    y = list(y)\n",
    "    \n",
    "    CPT_YES_FEATURES={}\n",
    "    CPT_NO_FEATURES = {}\n",
    "    for k in range(len(x[0])):\n",
    "        CPT_YES = {}\n",
    "        CPT_NO = {}\n",
    "        for j in unique_quantities[k]:\n",
    "            yeslist = []\n",
    "            nolist = []\n",
    "            for i in range(len(x)):\n",
    "                if(x[i][k]==j and y[i]==1):\n",
    "                    yeslist.append(1)\n",
    "                if(x[i][k]==j and y[i]==0):\n",
    "                    nolist.append(0)\n",
    "            CPT_YES[j] = len(yeslist)/y.count(1)\n",
    "            CPT_NO[j] = len(nolist)/y.count(0)\n",
    "        CPT_YES_FEATURES[final_features[k]]=CPT_YES\n",
    "        CPT_NO_FEATURES[final_features[k]]=CPT_NO\n",
    "    \n",
    "    return (CPT_YES_FEATURES,CPT_NO_FEATURES)"
   ]
  },
  {
   "cell_type": "code",
   "execution_count": 24,
   "id": "76d1d0e6",
   "metadata": {},
   "outputs": [],
   "source": [
    "def testNaiveBayes(x_test,y_test,yCPT,nCPT,y_prob):\n",
    "    print(x_test)\n",
    "    Y_posterior = []\n",
    "    for i in range(len(x_test)):\n",
    "        num = y_prob\n",
    "        denom = (1-y_prob)\n",
    "        for j in range(len(x_test[0])):\n",
    "            num *= yCPT[final_features[j]][x_test[i][j]]\n",
    "            denom *= nCPT[final_features[j]][x_test[i][j]]\n",
    "        denom+=num\n",
    "        posterior_prob = num/denom\n",
    "#             print(yCPT[final_features[j]][x_test[i][j]]) \n",
    "        Y_posterior.append(posterior_prob)\n",
    "        \n",
    "    print(Y_posterior)\n",
    "    \n",
    "    for i in range(len(Y_posterior)):\n",
    "        if (Y_posterior[i]<0.5):\n",
    "            Y_posterior[i]=0\n",
    "        else:\n",
    "            Y_posterior[i]=1\n",
    "    \n",
    "    match_count = 0\n",
    "    for i in range(len(y_test)):\n",
    "        if (Y_posterior[i]==y_test[i]):\n",
    "            match_count +=1\n",
    "    \n",
    "    acc = match_count/len(y_test)\n",
    "    \n",
    "    return acc"
   ]
  },
  {
   "cell_type": "code",
   "execution_count": 25,
   "id": "87f85479",
   "metadata": {},
   "outputs": [],
   "source": [
    "def naiveBayesClassifier(x_train,y_train,x_test,y_test):\n",
    "    no_of_features = len(x_train[0])\n",
    "#     identifying unique quantities\n",
    "    unique_quantities = [set()]*6\n",
    "    \n",
    "    for j in range(no_of_features):\n",
    "        for i in range(len(x_train)):\n",
    "            unique_quantities[j].add(x_train[i][j])\n",
    "\n",
    "    CPTtup = makeCPT(x_train,y_train,unique_quantities)\n",
    "    \n",
    "    yCPT = CPTtup[0]\n",
    "    nCPT = CPTtup[1]\n",
    "    print(yCPT)\n",
    "    print(nCPT)\n",
    "    y_prob = list(y_train).count(1)/len(y_train)\n",
    "    print(y_prob)\n",
    "    accuracy = testNaiveBayes(x_test,y_test,yCPT,nCPT,y_prob)\n",
    "    \n",
    "    return accuracy\n",
    "    pass"
   ]
  },
  {
   "cell_type": "code",
   "execution_count": 21,
   "id": "17224faf",
   "metadata": {},
   "outputs": [],
   "source": [
    "X_train,X_test,Y_train,Y_test = train_test_split(x_data.to_numpy(),y_data.to_numpy(), test_size=0.33)"
   ]
  },
  {
   "cell_type": "code",
   "execution_count": 22,
   "id": "2f2c6490",
   "metadata": {},
   "outputs": [
    {
     "name": "stdout",
     "output_type": "stream",
     "text": [
      "166 468\n"
     ]
    }
   ],
   "source": [
    "print(np.count_nonzero(Y_train == 1),len(Y_train))\n",
    "# print(X_train,Y_train)"
   ]
  },
  {
   "cell_type": "code",
   "execution_count": 27,
   "id": "7de86910",
   "metadata": {},
   "outputs": [
    {
     "name": "stdout",
     "output_type": "stream",
     "text": [
      "{'clump_thickness': {1: 0.006024096385542169, 2: 0.018072289156626505, 3: 0.04216867469879518, 4: 0.05421686746987952, 5: 0.1927710843373494, 6: 0.0963855421686747, 7: 0.0963855421686747, 8: 0.1686746987951807, 9: 0.04819277108433735, 10: 0.27710843373493976}, 'marginal_adhesion': {1: 0.15060240963855423, 2: 0.0963855421686747, 3: 0.10843373493975904, 4: 0.10843373493975904, 5: 0.06626506024096386, 6: 0.07228915662650602, 7: 0.04216867469879518, 8: 0.0963855421686747, 9: 0.018072289156626505, 10: 0.24096385542168675}, 'epithelial_size': {1: 0.0, 2: 0.12048192771084337, 3: 0.1927710843373494, 4: 0.1566265060240964, 5: 0.13253012048192772, 6: 0.1686746987951807, 7: 0.04216867469879518, 8: 0.05421686746987952, 9: 0.006024096385542169, 10: 0.12650602409638553}, 'bland_chromatin': {1: 0.012048192771084338, 2: 0.03614457831325301, 3: 0.1686746987951807, 4: 0.13253012048192772, 5: 0.15060240963855423, 6: 0.030120481927710843, 7: 0.24096385542168675, 8: 0.12048192771084337, 9: 0.024096385542168676, 10: 0.08433734939759036}, 'normal_nucleoli': {1: 0.1927710843373494, 2: 0.024096385542168676, 3: 0.12650602409638553, 4: 0.07228915662650602, 5: 0.07228915662650602, 6: 0.07228915662650602, 7: 0.06626506024096386, 8: 0.0963855421686747, 9: 0.06626506024096386, 10: 0.21084337349397592}, 'mitoses': {1: 0.572289156626506, 2: 0.1144578313253012, 3: 0.1144578313253012, 4: 0.05421686746987952, 5: 0.018072289156626505, 6: 0.012048192771084338, 7: 0.03614457831325301, 8: 0.03614457831325301, 9: 0.0, 10: 0.04216867469879518}}\n",
      "{'clump_thickness': {1: 0.3211920529801324, 2: 0.11589403973509933, 3: 0.18543046357615894, 4: 0.1390728476821192, 5: 0.19205298013245034, 6: 0.03642384105960265, 7: 0.0033112582781456954, 8: 0.006622516556291391, 9: 0.0, 10: 0.0}, 'marginal_adhesion': {1: 0.804635761589404, 2: 0.07947019867549669, 3: 0.076158940397351, 4: 0.016556291390728478, 5: 0.0033112582781456954, 6: 0.013245033112582781, 7: 0.0, 8: 0.0, 9: 0.0033112582781456954, 10: 0.0033112582781456954}, 'epithelial_size': {1: 0.09933774834437085, 2: 0.7913907284768212, 3: 0.059602649006622516, 4: 0.016556291390728478, 5: 0.013245033112582781, 6: 0.006622516556291391, 7: 0.006622516556291391, 8: 0.0033112582781456954, 9: 0.0, 10: 0.0033112582781456954}, 'bland_chromatin': {1: 0.3211920529801324, 2: 0.34105960264900664, 3: 0.2980132450331126, 4: 0.019867549668874173, 5: 0.0033112582781456954, 6: 0.0, 7: 0.016556291390728478, 8: 0.0, 9: 0.0, 10: 0.0}, 'normal_nucleoli': {1: 0.8675496688741722, 2: 0.076158940397351, 3: 0.026490066225165563, 4: 0.0033112582781456954, 5: 0.0033112582781456954, 6: 0.006622516556291391, 7: 0.006622516556291391, 8: 0.006622516556291391, 9: 0.0033112582781456954, 10: 0.0}, 'mitoses': {1: 0.9801324503311258, 2: 0.009933774834437087, 3: 0.0, 4: 0.0, 5: 0.0033112582781456954, 6: 0.0, 7: 0.0033112582781456954, 8: 0.0033112582781456954, 9: 0.0, 10: 0.0}}\n",
      "0.3547008547008547\n",
      "[[1 1 2 1 1 1]\n",
      " [3 1 2 2 1 1]\n",
      " [1 1 2 3 1 1]\n",
      " ...\n",
      " [2 1 2 2 1 1]\n",
      " [4 1 2 2 1 1]\n",
      " [3 3 2 2 1 1]]\n",
      "[1.429639674195769e-06, 4.897150552846069e-05, 2.1571239706432435e-05, 1.0, 1.0, 7.650462750595009e-05, 1.0, 4.897150552846069e-05, 1.0, 0.9999998454143154, 0.0, 0.0002614885294122919, 1.0, 4.897150552846069e-05, 0.0002614885294122919, 4.039068539819358e-06, 1.0, 1.0, 1.0, 1.429639674195769e-06, 2.1571239706432435e-05, 1.429639674195769e-06, 0.13713312520553098, 1.0, 1.0, 0.00044818234003464024, 1.0, 1.733410535516104e-05, 7.650462750595009e-05, 4.897150552846069e-05, 0.00017932115715935614, 0.0, 1.0, 0.0002614885294122919, 0.0, 0.0, 1.429639674195769e-06, 1.0, 0.0, 2.9715241260902745e-05, 1.0, 0.9953109123447931, 0.04004237018204311, 1.0, 0.9999980161540101, 1.0, 5.751272529943068e-06, 1.0, 0.9985664167849808, 0.00017932115715935614, 1.429639674195769e-06, 1.0, 1.0, 1.0, 1.0, 0.0025332334381067308, 3.3580977780128166e-05, 0.0, 1.429639674195769e-06, 0.000965485306655082, 1.0, 0.00021611396373972876, 8.394821585556343e-05, 0.00017932115715935614, 1.0875104121834056e-05, 0.0013987619249614966, 0.00044818234003464024, 1.0, 0.9991129232014297, 1.0, 1.0, 0.0, 3.071528871125312e-05, 3.0371021627992092e-05, 1.0, 0.0006309042599591169, 2.1571239706432435e-05, 1.0, 1.0, 0.022273879309298278, 0.9999652546585982, 1.0, 0.001153126908561323, 8.394821585556343e-05, 0.9394682162620938, 2.1571239706432435e-05, 1.429639674195769e-06, 0.18458646504397974, 0.9924694166628286, 1.0, 1.429639674195769e-06, 0.9998046711393237, 1.0, 2.9715241260902745e-05, 1.0, 7.701826187121696e-05, 1.0, 4.039068539819358e-06, 1.0, 0.0, 0.21443523889344654, 1.429639674195769e-06, 1.0, 0.8265071516510908, 0.0, 1.0, 1.429639674195769e-06, 0.006680815968243766, 8.394821585556343e-05, 0.001153126908561323, 1.0, 0.001153126908561323, 4.897150552846069e-05, 8.394821585556343e-05, 1.0, 1.0, 1.0, 0.0002614885294122919, 0.0, 4.897150552846069e-05, 1.0, 1.0, 0.00054373430126984, 2.9715241260902745e-05, 1.0, 1.0, 0.00021611396373972876, 2.1571239706432435e-05, 0.0, 1.0, 0.0, 0.0, 0.0, 1.1886308427074664e-05, 1.733410535516104e-05, 0.0010514496143016591, 1.0, 8.394821585556343e-05, 0.00021611396373972876, 1.733410535516104e-05, 4.897150552846069e-05, 0.001153126908561323, 4.897150552846069e-05, 1.0, 7.650462750595009e-05, 0.00044818234003464024, 0.0030343362547408186, 4.897150552846069e-05, 2.9715241260902745e-05, 1.1886308427074664e-05, 0.001305371013170891, 0.9995141749220628, 8.394821585556343e-05, 1.0, 0.0010393420239183289, 0.0005816733609343608, 0.9999268475792468, 0.9999911875471971, 1.0, 0.001153126908561323, 0.009688757786206445, 4.231138663857434e-05, 0.9920346198736144, 1.0, 4.039068539819358e-06, 0.0019857012905535004, 0.0, 2.9715241260902745e-05, 1.1886308427074664e-05, 0.00021611396373972876, 4.039068539819358e-06, 1.0, 2.9715241260902745e-05, 0.003399238018577155, 4.897150552846069e-05, 4.039068539819358e-06, 0.999821137629073, 1.0, 0.0003681242562934389, 0.9972216990128037, 0.00011231433386208516, 0.0002614885294122919, 0.0, 0.00054373430126984, 7.650462750595009e-05, 0.0, 1.733410535516104e-05, 1.429639674195769e-06, 1.0, 1.0, 0.00044818234003464024, 1.429639674195769e-06, 1.429639674195769e-06, 0.9418256947239418, 4.039068539819358e-06, 1.0, 1.429639674195769e-06, 0.9796667503751174, 1.0, 1.0, 0.001153126908561323, 1.0, 4.897150552846069e-05, 0.02058530579152004, 0.00021611396373972876, 4.039068539819358e-06, 4.039068539819358e-06, 8.394821585556343e-05, 1.0, 2.9715241260902745e-05, 1.429639674195769e-06, 0.9999870217144836, 3.3580977780128166e-05, 1.429639674195769e-06, 4.897150552846069e-05, 0.00021611396373972876, 0.0002614885294122919, 1.429639674195769e-06, 1.0, 2.9715241260902745e-05, 4.897150552846069e-05, 0.024211108977641362, 0.06693616088876758, 7.650462750595009e-05, 1.0, 0.9999992841518841, 2.1571239706432435e-05, 1.0, 3.3580977780128166e-05, 8.394821585556343e-05, 0.00037240362119630424]\n",
      "96.1038961038961\n"
     ]
    }
   ],
   "source": [
    "accuracy = naiveBayesClassifier(X_train,Y_train,X_test,Y_test)\n",
    "\n",
    "# accuracy of the model\n",
    "print(accuracy*100)"
   ]
  },
  {
   "cell_type": "code",
   "execution_count": null,
   "id": "f3c924f9",
   "metadata": {},
   "outputs": [],
   "source": []
  },
  {
   "cell_type": "code",
   "execution_count": null,
   "id": "d87d7807",
   "metadata": {},
   "outputs": [],
   "source": []
  }
 ],
 "metadata": {
  "kernelspec": {
   "display_name": "Python 3 (ipykernel)",
   "language": "python",
   "name": "python3"
  },
  "language_info": {
   "codemirror_mode": {
    "name": "ipython",
    "version": 3
   },
   "file_extension": ".py",
   "mimetype": "text/x-python",
   "name": "python",
   "nbconvert_exporter": "python",
   "pygments_lexer": "ipython3",
   "version": "3.10.1"
  }
 },
 "nbformat": 4,
 "nbformat_minor": 5
}
