{
 "cells": [
  {
   "cell_type": "code",
   "execution_count": 106,
   "id": "8c7a68f4",
   "metadata": {},
   "outputs": [],
   "source": [
    "import pandas as pd\n",
    "import numpy as np\n",
    "from sklearn.model_selection import train_test_split"
   ]
  },
  {
   "cell_type": "code",
   "execution_count": 15,
   "id": "741fd73a",
   "metadata": {
    "scrolled": true
   },
   "outputs": [],
   "source": [
    "df = pd.read_csv(\"Z:/tumor.csv\")\n",
    "del df['Sample code number']"
   ]
  },
  {
   "cell_type": "code",
   "execution_count": 16,
   "id": "e5ba0501",
   "metadata": {},
   "outputs": [
    {
     "data": {
      "text/html": [
       "<div>\n",
       "<style scoped>\n",
       "    .dataframe tbody tr th:only-of-type {\n",
       "        vertical-align: middle;\n",
       "    }\n",
       "\n",
       "    .dataframe tbody tr th {\n",
       "        vertical-align: top;\n",
       "    }\n",
       "\n",
       "    .dataframe thead th {\n",
       "        text-align: right;\n",
       "    }\n",
       "</style>\n",
       "<table border=\"1\" class=\"dataframe\">\n",
       "  <thead>\n",
       "    <tr style=\"text-align: right;\">\n",
       "      <th></th>\n",
       "      <th>Clump Thickness</th>\n",
       "      <th>Uniformity of Cell Size</th>\n",
       "      <th>Uniformity of Cell Shape</th>\n",
       "      <th>Marginal Adhesion</th>\n",
       "      <th>Single Epithelial Cell Size</th>\n",
       "      <th>Bare Nuclei</th>\n",
       "      <th>Bland Chromatin</th>\n",
       "      <th>Normal Nucleoli</th>\n",
       "      <th>Mitoses</th>\n",
       "      <th>Class</th>\n",
       "    </tr>\n",
       "  </thead>\n",
       "  <tbody>\n",
       "    <tr>\n",
       "      <th>0</th>\n",
       "      <td>5</td>\n",
       "      <td>1</td>\n",
       "      <td>1</td>\n",
       "      <td>1</td>\n",
       "      <td>2</td>\n",
       "      <td>1</td>\n",
       "      <td>3</td>\n",
       "      <td>1</td>\n",
       "      <td>1</td>\n",
       "      <td>2</td>\n",
       "    </tr>\n",
       "    <tr>\n",
       "      <th>1</th>\n",
       "      <td>5</td>\n",
       "      <td>4</td>\n",
       "      <td>4</td>\n",
       "      <td>5</td>\n",
       "      <td>7</td>\n",
       "      <td>10</td>\n",
       "      <td>3</td>\n",
       "      <td>2</td>\n",
       "      <td>1</td>\n",
       "      <td>2</td>\n",
       "    </tr>\n",
       "    <tr>\n",
       "      <th>2</th>\n",
       "      <td>3</td>\n",
       "      <td>1</td>\n",
       "      <td>1</td>\n",
       "      <td>1</td>\n",
       "      <td>2</td>\n",
       "      <td>2</td>\n",
       "      <td>3</td>\n",
       "      <td>1</td>\n",
       "      <td>1</td>\n",
       "      <td>2</td>\n",
       "    </tr>\n",
       "    <tr>\n",
       "      <th>3</th>\n",
       "      <td>6</td>\n",
       "      <td>8</td>\n",
       "      <td>8</td>\n",
       "      <td>1</td>\n",
       "      <td>3</td>\n",
       "      <td>4</td>\n",
       "      <td>3</td>\n",
       "      <td>7</td>\n",
       "      <td>1</td>\n",
       "      <td>2</td>\n",
       "    </tr>\n",
       "    <tr>\n",
       "      <th>4</th>\n",
       "      <td>4</td>\n",
       "      <td>1</td>\n",
       "      <td>1</td>\n",
       "      <td>3</td>\n",
       "      <td>2</td>\n",
       "      <td>1</td>\n",
       "      <td>3</td>\n",
       "      <td>1</td>\n",
       "      <td>1</td>\n",
       "      <td>2</td>\n",
       "    </tr>\n",
       "  </tbody>\n",
       "</table>\n",
       "</div>"
      ],
      "text/plain": [
       "   Clump Thickness  Uniformity of Cell Size  Uniformity of Cell Shape  \\\n",
       "0                5                        1                         1   \n",
       "1                5                        4                         4   \n",
       "2                3                        1                         1   \n",
       "3                6                        8                         8   \n",
       "4                4                        1                         1   \n",
       "\n",
       "   Marginal Adhesion  Single Epithelial Cell Size  Bare Nuclei  \\\n",
       "0                  1                            2            1   \n",
       "1                  5                            7           10   \n",
       "2                  1                            2            2   \n",
       "3                  1                            3            4   \n",
       "4                  3                            2            1   \n",
       "\n",
       "   Bland Chromatin  Normal Nucleoli  Mitoses  Class  \n",
       "0                3                1        1      2  \n",
       "1                3                2        1      2  \n",
       "2                3                1        1      2  \n",
       "3                3                7        1      2  \n",
       "4                3                1        1      2  "
      ]
     },
     "execution_count": 16,
     "metadata": {},
     "output_type": "execute_result"
    }
   ],
   "source": [
    "df.head()"
   ]
  },
  {
   "cell_type": "code",
   "execution_count": 18,
   "id": "bcce16b4",
   "metadata": {},
   "outputs": [],
   "source": [
    "features = df.columns[:-1]"
   ]
  },
  {
   "cell_type": "code",
   "execution_count": 27,
   "id": "c93dae9d",
   "metadata": {},
   "outputs": [
    {
     "data": {
      "text/html": [
       "<div>\n",
       "<style scoped>\n",
       "    .dataframe tbody tr th:only-of-type {\n",
       "        vertical-align: middle;\n",
       "    }\n",
       "\n",
       "    .dataframe tbody tr th {\n",
       "        vertical-align: top;\n",
       "    }\n",
       "\n",
       "    .dataframe thead th {\n",
       "        text-align: right;\n",
       "    }\n",
       "</style>\n",
       "<table border=\"1\" class=\"dataframe\">\n",
       "  <thead>\n",
       "    <tr style=\"text-align: right;\">\n",
       "      <th></th>\n",
       "      <th>Clump Thickness</th>\n",
       "      <th>Uniformity of Cell Size</th>\n",
       "      <th>Uniformity of Cell Shape</th>\n",
       "      <th>Marginal Adhesion</th>\n",
       "      <th>Single Epithelial Cell Size</th>\n",
       "      <th>Bare Nuclei</th>\n",
       "      <th>Bland Chromatin</th>\n",
       "      <th>Normal Nucleoli</th>\n",
       "      <th>Mitoses</th>\n",
       "      <th>Class</th>\n",
       "    </tr>\n",
       "  </thead>\n",
       "  <tbody>\n",
       "    <tr>\n",
       "      <th>Clump Thickness</th>\n",
       "      <td>1.000000</td>\n",
       "      <td>0.642481</td>\n",
       "      <td>0.653470</td>\n",
       "      <td>0.487829</td>\n",
       "      <td>0.523596</td>\n",
       "      <td>0.593091</td>\n",
       "      <td>0.553742</td>\n",
       "      <td>0.534066</td>\n",
       "      <td>0.350957</td>\n",
       "      <td>0.714790</td>\n",
       "    </tr>\n",
       "    <tr>\n",
       "      <th>Uniformity of Cell Size</th>\n",
       "      <td>0.642481</td>\n",
       "      <td>1.000000</td>\n",
       "      <td>0.907228</td>\n",
       "      <td>0.706977</td>\n",
       "      <td>0.753544</td>\n",
       "      <td>0.691709</td>\n",
       "      <td>0.755559</td>\n",
       "      <td>0.719346</td>\n",
       "      <td>0.460755</td>\n",
       "      <td>0.820801</td>\n",
       "    </tr>\n",
       "    <tr>\n",
       "      <th>Uniformity of Cell Shape</th>\n",
       "      <td>0.653470</td>\n",
       "      <td>0.907228</td>\n",
       "      <td>1.000000</td>\n",
       "      <td>0.685948</td>\n",
       "      <td>0.722462</td>\n",
       "      <td>0.713878</td>\n",
       "      <td>0.735344</td>\n",
       "      <td>0.717963</td>\n",
       "      <td>0.441258</td>\n",
       "      <td>0.821891</td>\n",
       "    </tr>\n",
       "    <tr>\n",
       "      <th>Marginal Adhesion</th>\n",
       "      <td>0.487829</td>\n",
       "      <td>0.706977</td>\n",
       "      <td>0.685948</td>\n",
       "      <td>1.000000</td>\n",
       "      <td>0.594548</td>\n",
       "      <td>0.670648</td>\n",
       "      <td>0.668567</td>\n",
       "      <td>0.603121</td>\n",
       "      <td>0.418898</td>\n",
       "      <td>0.706294</td>\n",
       "    </tr>\n",
       "    <tr>\n",
       "      <th>Single Epithelial Cell Size</th>\n",
       "      <td>0.523596</td>\n",
       "      <td>0.753544</td>\n",
       "      <td>0.722462</td>\n",
       "      <td>0.594548</td>\n",
       "      <td>1.000000</td>\n",
       "      <td>0.585716</td>\n",
       "      <td>0.618128</td>\n",
       "      <td>0.628926</td>\n",
       "      <td>0.480583</td>\n",
       "      <td>0.690958</td>\n",
       "    </tr>\n",
       "    <tr>\n",
       "      <th>Bare Nuclei</th>\n",
       "      <td>0.593091</td>\n",
       "      <td>0.691709</td>\n",
       "      <td>0.713878</td>\n",
       "      <td>0.670648</td>\n",
       "      <td>0.585716</td>\n",
       "      <td>1.000000</td>\n",
       "      <td>0.680615</td>\n",
       "      <td>0.584280</td>\n",
       "      <td>0.339210</td>\n",
       "      <td>0.822696</td>\n",
       "    </tr>\n",
       "    <tr>\n",
       "      <th>Bland Chromatin</th>\n",
       "      <td>0.553742</td>\n",
       "      <td>0.755559</td>\n",
       "      <td>0.735344</td>\n",
       "      <td>0.668567</td>\n",
       "      <td>0.618128</td>\n",
       "      <td>0.680615</td>\n",
       "      <td>1.000000</td>\n",
       "      <td>0.665602</td>\n",
       "      <td>0.346011</td>\n",
       "      <td>0.758228</td>\n",
       "    </tr>\n",
       "    <tr>\n",
       "      <th>Normal Nucleoli</th>\n",
       "      <td>0.534066</td>\n",
       "      <td>0.719346</td>\n",
       "      <td>0.717963</td>\n",
       "      <td>0.603121</td>\n",
       "      <td>0.628926</td>\n",
       "      <td>0.584280</td>\n",
       "      <td>0.665602</td>\n",
       "      <td>1.000000</td>\n",
       "      <td>0.433757</td>\n",
       "      <td>0.718677</td>\n",
       "    </tr>\n",
       "    <tr>\n",
       "      <th>Mitoses</th>\n",
       "      <td>0.350957</td>\n",
       "      <td>0.460755</td>\n",
       "      <td>0.441258</td>\n",
       "      <td>0.418898</td>\n",
       "      <td>0.480583</td>\n",
       "      <td>0.339210</td>\n",
       "      <td>0.346011</td>\n",
       "      <td>0.433757</td>\n",
       "      <td>1.000000</td>\n",
       "      <td>0.423448</td>\n",
       "    </tr>\n",
       "    <tr>\n",
       "      <th>Class</th>\n",
       "      <td>0.714790</td>\n",
       "      <td>0.820801</td>\n",
       "      <td>0.821891</td>\n",
       "      <td>0.706294</td>\n",
       "      <td>0.690958</td>\n",
       "      <td>0.822696</td>\n",
       "      <td>0.758228</td>\n",
       "      <td>0.718677</td>\n",
       "      <td>0.423448</td>\n",
       "      <td>1.000000</td>\n",
       "    </tr>\n",
       "  </tbody>\n",
       "</table>\n",
       "</div>"
      ],
      "text/plain": [
       "                             Clump Thickness  Uniformity of Cell Size  \\\n",
       "Clump Thickness                     1.000000                 0.642481   \n",
       "Uniformity of Cell Size             0.642481                 1.000000   \n",
       "Uniformity of Cell Shape            0.653470                 0.907228   \n",
       "Marginal Adhesion                   0.487829                 0.706977   \n",
       "Single Epithelial Cell Size         0.523596                 0.753544   \n",
       "Bare Nuclei                         0.593091                 0.691709   \n",
       "Bland Chromatin                     0.553742                 0.755559   \n",
       "Normal Nucleoli                     0.534066                 0.719346   \n",
       "Mitoses                             0.350957                 0.460755   \n",
       "Class                               0.714790                 0.820801   \n",
       "\n",
       "                             Uniformity of Cell Shape  Marginal Adhesion  \\\n",
       "Clump Thickness                              0.653470           0.487829   \n",
       "Uniformity of Cell Size                      0.907228           0.706977   \n",
       "Uniformity of Cell Shape                     1.000000           0.685948   \n",
       "Marginal Adhesion                            0.685948           1.000000   \n",
       "Single Epithelial Cell Size                  0.722462           0.594548   \n",
       "Bare Nuclei                                  0.713878           0.670648   \n",
       "Bland Chromatin                              0.735344           0.668567   \n",
       "Normal Nucleoli                              0.717963           0.603121   \n",
       "Mitoses                                      0.441258           0.418898   \n",
       "Class                                        0.821891           0.706294   \n",
       "\n",
       "                             Single Epithelial Cell Size  Bare Nuclei  \\\n",
       "Clump Thickness                                 0.523596     0.593091   \n",
       "Uniformity of Cell Size                         0.753544     0.691709   \n",
       "Uniformity of Cell Shape                        0.722462     0.713878   \n",
       "Marginal Adhesion                               0.594548     0.670648   \n",
       "Single Epithelial Cell Size                     1.000000     0.585716   \n",
       "Bare Nuclei                                     0.585716     1.000000   \n",
       "Bland Chromatin                                 0.618128     0.680615   \n",
       "Normal Nucleoli                                 0.628926     0.584280   \n",
       "Mitoses                                         0.480583     0.339210   \n",
       "Class                                           0.690958     0.822696   \n",
       "\n",
       "                             Bland Chromatin  Normal Nucleoli   Mitoses  \\\n",
       "Clump Thickness                     0.553742         0.534066  0.350957   \n",
       "Uniformity of Cell Size             0.755559         0.719346  0.460755   \n",
       "Uniformity of Cell Shape            0.735344         0.717963  0.441258   \n",
       "Marginal Adhesion                   0.668567         0.603121  0.418898   \n",
       "Single Epithelial Cell Size         0.618128         0.628926  0.480583   \n",
       "Bare Nuclei                         0.680615         0.584280  0.339210   \n",
       "Bland Chromatin                     1.000000         0.665602  0.346011   \n",
       "Normal Nucleoli                     0.665602         1.000000  0.433757   \n",
       "Mitoses                             0.346011         0.433757  1.000000   \n",
       "Class                               0.758228         0.718677  0.423448   \n",
       "\n",
       "                                Class  \n",
       "Clump Thickness              0.714790  \n",
       "Uniformity of Cell Size      0.820801  \n",
       "Uniformity of Cell Shape     0.821891  \n",
       "Marginal Adhesion            0.706294  \n",
       "Single Epithelial Cell Size  0.690958  \n",
       "Bare Nuclei                  0.822696  \n",
       "Bland Chromatin              0.758228  \n",
       "Normal Nucleoli              0.718677  \n",
       "Mitoses                      0.423448  \n",
       "Class                        1.000000  "
      ]
     },
     "execution_count": 27,
     "metadata": {},
     "output_type": "execute_result"
    }
   ],
   "source": [
    "df.corr()"
   ]
  },
  {
   "cell_type": "code",
   "execution_count": 31,
   "id": "330c0ed1",
   "metadata": {},
   "outputs": [],
   "source": [
    "def remove_multicollinearity(features):\n",
    "    final_features = list(features)\n",
    "    \n",
    "    CR = df[features].corr().values\n",
    "    \n",
    "    for i in range(len(features)):\n",
    "        for j in range(i+1,len(features)):\n",
    "            \n",
    "            if(CR[i][j]>=0.7 and features[i] in final_features):\n",
    "                \n",
    "                final_features.remove(features[i])\n",
    "    \n",
    "    return final_features"
   ]
  },
  {
   "cell_type": "code",
   "execution_count": 33,
   "id": "f9ea8f64",
   "metadata": {},
   "outputs": [
    {
     "name": "stdout",
     "output_type": "stream",
     "text": [
      "['Clump Thickness', 'Marginal Adhesion', 'Single Epithelial Cell Size', 'Bare Nuclei', 'Bland Chromatin', 'Normal Nucleoli', 'Mitoses']\n"
     ]
    }
   ],
   "source": [
    "final_features = remove_multicollinearity(features)"
   ]
  },
  {
   "cell_type": "code",
   "execution_count": 36,
   "id": "85cd6c22",
   "metadata": {},
   "outputs": [],
   "source": [
    "X = df[final_features]"
   ]
  },
  {
   "cell_type": "code",
   "execution_count": 117,
   "id": "0e02b709",
   "metadata": {},
   "outputs": [],
   "source": [
    "from sklearn.preprocessing import LabelEncoder\n",
    "from sklearn.metrics import accuracy_score,precision_score,confusion_matrix,recall_score\n",
    "\n",
    "le = LabelEncoder()\n",
    "\n",
    "df['Class'] = le.fit_transform(df['Class'])\n",
    "\n",
    "Y = df['Class']"
   ]
  },
  {
   "cell_type": "code",
   "execution_count": 41,
   "id": "5ef77df6",
   "metadata": {},
   "outputs": [
    {
     "data": {
      "text/html": [
       "<div>\n",
       "<style scoped>\n",
       "    .dataframe tbody tr th:only-of-type {\n",
       "        vertical-align: middle;\n",
       "    }\n",
       "\n",
       "    .dataframe tbody tr th {\n",
       "        vertical-align: top;\n",
       "    }\n",
       "\n",
       "    .dataframe thead th {\n",
       "        text-align: right;\n",
       "    }\n",
       "</style>\n",
       "<table border=\"1\" class=\"dataframe\">\n",
       "  <thead>\n",
       "    <tr style=\"text-align: right;\">\n",
       "      <th></th>\n",
       "      <th>Clump Thickness</th>\n",
       "      <th>Marginal Adhesion</th>\n",
       "      <th>Single Epithelial Cell Size</th>\n",
       "      <th>Bare Nuclei</th>\n",
       "      <th>Bland Chromatin</th>\n",
       "      <th>Normal Nucleoli</th>\n",
       "      <th>Mitoses</th>\n",
       "    </tr>\n",
       "  </thead>\n",
       "  <tbody>\n",
       "    <tr>\n",
       "      <th>0</th>\n",
       "      <td>5</td>\n",
       "      <td>1</td>\n",
       "      <td>2</td>\n",
       "      <td>1</td>\n",
       "      <td>3</td>\n",
       "      <td>1</td>\n",
       "      <td>1</td>\n",
       "    </tr>\n",
       "    <tr>\n",
       "      <th>1</th>\n",
       "      <td>5</td>\n",
       "      <td>5</td>\n",
       "      <td>7</td>\n",
       "      <td>10</td>\n",
       "      <td>3</td>\n",
       "      <td>2</td>\n",
       "      <td>1</td>\n",
       "    </tr>\n",
       "    <tr>\n",
       "      <th>2</th>\n",
       "      <td>3</td>\n",
       "      <td>1</td>\n",
       "      <td>2</td>\n",
       "      <td>2</td>\n",
       "      <td>3</td>\n",
       "      <td>1</td>\n",
       "      <td>1</td>\n",
       "    </tr>\n",
       "    <tr>\n",
       "      <th>3</th>\n",
       "      <td>6</td>\n",
       "      <td>1</td>\n",
       "      <td>3</td>\n",
       "      <td>4</td>\n",
       "      <td>3</td>\n",
       "      <td>7</td>\n",
       "      <td>1</td>\n",
       "    </tr>\n",
       "    <tr>\n",
       "      <th>4</th>\n",
       "      <td>4</td>\n",
       "      <td>3</td>\n",
       "      <td>2</td>\n",
       "      <td>1</td>\n",
       "      <td>3</td>\n",
       "      <td>1</td>\n",
       "      <td>1</td>\n",
       "    </tr>\n",
       "  </tbody>\n",
       "</table>\n",
       "</div>"
      ],
      "text/plain": [
       "   Clump Thickness  Marginal Adhesion  Single Epithelial Cell Size  \\\n",
       "0                5                  1                            2   \n",
       "1                5                  5                            7   \n",
       "2                3                  1                            2   \n",
       "3                6                  1                            3   \n",
       "4                4                  3                            2   \n",
       "\n",
       "   Bare Nuclei  Bland Chromatin  Normal Nucleoli  Mitoses  \n",
       "0            1                3                1        1  \n",
       "1           10                3                2        1  \n",
       "2            2                3                1        1  \n",
       "3            4                3                7        1  \n",
       "4            1                3                1        1  "
      ]
     },
     "execution_count": 41,
     "metadata": {},
     "output_type": "execute_result"
    }
   ],
   "source": [
    "X.head()"
   ]
  },
  {
   "cell_type": "code",
   "execution_count": 62,
   "id": "d4462096",
   "metadata": {},
   "outputs": [],
   "source": [
    "def sigmoid(x):\n",
    "    return 1/(1+np.exp(-x))"
   ]
  },
  {
   "cell_type": "code",
   "execution_count": 126,
   "id": "fa200b00",
   "metadata": {},
   "outputs": [],
   "source": [
    "def logistic_regression(X,Y,eta):\n",
    "    W = np.random.rand(X.shape[1]+1)\n",
    "    epochs = 0\n",
    "    Wnew = np.random.rand(X.shape[1])\n",
    "    convergence = False\n",
    "    y_cap = [None]*len(Y)\n",
    "    \n",
    "    while(not convergence):\n",
    "        \n",
    "        for i in range(len(X)):\n",
    "            wTx = W.dot(np.insert(X[i],0,1))\n",
    "            \n",
    "            ySig = sigmoid(wTx)\n",
    "            \n",
    "            if(ySig>=0.5):\n",
    "                y_cap[i] = 1\n",
    "            elif(ySig<0.5):\n",
    "                y_cap[i] = 0\n",
    "                \n",
    "            if(y_cap[i]!=Y[i]):\n",
    "                Wnew = W +eta*(ySig)*(1-ySig)*(Y[i]-ySig)*np.insert(X[i],0,1)\n",
    "            \n",
    "            W = Wnew\n",
    "        \n",
    "        epochs += 1\n",
    "        \n",
    "        if(epochs==3000):\n",
    "            convergence = True\n",
    "    \n",
    "    return W"
   ]
  },
  {
   "cell_type": "code",
   "execution_count": 80,
   "id": "bb3df257",
   "metadata": {},
   "outputs": [],
   "source": [
    "def model_testing(X,Y,W):\n",
    "    \n",
    "    y_cap = [None]*len(Y)\n",
    "    \n",
    "    for i in range(len(X)):\n",
    "        wTx = W.dot(np.insert(X[i],0,1))\n",
    "        \n",
    "        ySig = sigmoid(wTx)\n",
    "        \n",
    "        if(ySig>=0.5):\n",
    "                y_cap[i] = 1\n",
    "        elif(ySig<0.5):\n",
    "                y_cap[i] = 0\n",
    "                \n",
    "    return y_cap"
   ]
  },
  {
   "cell_type": "code",
   "execution_count": 145,
   "id": "b02a7bc5",
   "metadata": {},
   "outputs": [],
   "source": [
    "def logisticMetrics(y,y_cap):\n",
    "    CF = confusion_matrix(y,y_cap)\n",
    "    \n",
    "    print(CF)\n",
    "    \n",
    "    TP = CF[0][0]\n",
    "    FP = CF[1][0]\n",
    "    FN = CF[0][1]\n",
    "    TN = CF[1][1]\n",
    "    \n",
    "    print(f\"Accuracy :  {(TP+TN)/(TP+FP+TN+FN)}\")\n",
    "    print(f\"Precision : {TP/(TP+FN)}\")\n",
    "    \n",
    "    return [TP/(TP+FP),FP/(FP+TN)]"
   ]
  },
  {
   "cell_type": "code",
   "execution_count": 51,
   "id": "803b343f",
   "metadata": {},
   "outputs": [],
   "source": [
    "X_train,X_test,Y_train,Y_test = train_test_split(X.to_numpy(),Y.to_numpy(),test_size=0.33,random_state=2)"
   ]
  },
  {
   "cell_type": "code",
   "execution_count": 127,
   "id": "f0517bae",
   "metadata": {},
   "outputs": [],
   "source": [
    "weights = [None]*5\n",
    "\n",
    "weights[0] = logistic_regression(X_train,Y_train,0.01)\n",
    "weights[1] = logistic_regression(X_train,Y_train,0.03)\n",
    "weights[2] = logistic_regression(X_train,Y_train,0.05)\n",
    "weights[3] = logistic_regression(X_train,Y_train,0.07)\n",
    "weights[4] = logistic_regression(X_train,Y_train,0.09)"
   ]
  },
  {
   "cell_type": "code",
   "execution_count": 128,
   "id": "bc708c92",
   "metadata": {},
   "outputs": [
    {
     "data": {
      "text/plain": [
       "array([-5.46042436e-01,  5.51957671e-02,  3.03220905e-02, -3.19919663e-04,\n",
       "        3.92559899e-02,  2.41925947e-02,  1.80390668e-02,  2.32565699e-03])"
      ]
     },
     "execution_count": 128,
     "metadata": {},
     "output_type": "execute_result"
    }
   ],
   "source": [
    "weights[0]"
   ]
  },
  {
   "cell_type": "code",
   "execution_count": 157,
   "id": "f2a6478c",
   "metadata": {},
   "outputs": [
    {
     "name": "stdout",
     "output_type": "stream",
     "text": [
      "[[127  11]\n",
      " [  0  88]]\n",
      "Accuracy :  0.9513274336283186\n",
      "Precision : 0.9202898550724637\n",
      "[[128  10]\n",
      " [  1  87]]\n",
      "Accuracy :  0.9513274336283186\n",
      "Precision : 0.927536231884058\n",
      "[[127  11]\n",
      " [  1  87]]\n",
      "Accuracy :  0.9469026548672567\n",
      "Precision : 0.9202898550724637\n",
      "[[127  11]\n",
      " [  0  88]]\n",
      "Accuracy :  0.9513274336283186\n",
      "Precision : 0.9202898550724637\n",
      "[[128  10]\n",
      " [  0  88]]\n",
      "Accuracy :  0.9557522123893806\n",
      "Precision : 0.927536231884058\n"
     ]
    }
   ],
   "source": [
    "TPR = []\n",
    "FPR = []\n",
    "\n",
    "for i in range(5):\n",
    "    Y_pred = model_testing(X_test,Y_test,weights[i])\n",
    "    tup = logisticMetrics(Y_test,Y_pred)\n",
    "    TPR.append(tup[0])\n",
    "    FPR.append(tup[1])"
   ]
  },
  {
   "cell_type": "code",
   "execution_count": 159,
   "id": "ff572bc0",
   "metadata": {},
   "outputs": [
    {
     "name": "stdout",
     "output_type": "stream",
     "text": [
      "True positive rates : [1.0, 0.9922480620155039, 0.9921875, 1.0, 1.0]\n",
      "False positive rates : [0.0, 0.011363636363636364, 0.011363636363636364, 0.0, 0.0]\n"
     ]
    }
   ],
   "source": [
    "print(f\"True positive rates : {TPR}\")\n",
    "print(f\"False positive rates : {FPR}\")"
   ]
  },
  {
   "cell_type": "code",
   "execution_count": 148,
   "id": "b48e51e4",
   "metadata": {},
   "outputs": [
    {
     "data": {
      "image/png": "[encoded data removed]",
      "text/plain": [
       "<Figure size 432x288 with 1 Axes>"
      ]
     },
     "metadata": {
      "needs_background": "light"
     },
     "output_type": "display_data"
    },
    {
     "name": "stdout",
     "output_type": "stream",
     "text": [
      "Area under ROC curve  : 3.4410236081708345e-07\n"
     ]
    }
   ],
   "source": [
    "import matplotlib.pyplot as plt\n",
    "\n",
    "plt.plot(TPR,FPR)\n",
    "plt.show()\n",
    "print(f\"Area under ROC curve  : {np.trapz(TPR,FPR)}\")"
   ]
  },
  {
   "cell_type": "code",
   "execution_count": 122,
   "id": "8dfe10e8",
   "metadata": {},
   "outputs": [
    {
     "name": "stdout",
     "output_type": "stream",
     "text": [
      "[[124  14]\n",
      " [  0  88]]\n"
     ]
    },
    {
     "data": {
      "text/plain": [
       "1.0"
      ]
     },
     "execution_count": 122,
     "metadata": {},
     "output_type": "execute_result"
    }
   ],
   "source": [
    "logisticMetrics(Y_test,Y_pred)"
   ]
  },
  {
   "cell_type": "code",
   "execution_count": 109,
   "id": "742a31c7",
   "metadata": {},
   "outputs": [
    {
     "name": "stdout",
     "output_type": "stream",
     "text": [
      "Accuracy of the logistic regression model : 93.80530973451327\n"
     ]
    }
   ],
   "source": [
    "print(f\"Accuracy of the logistic regression model : {acc*100}\")"
   ]
  },
  {
   "cell_type": "code",
   "execution_count": 99,
   "id": "f727b1c9",
   "metadata": {},
   "outputs": [],
   "source": [
    "from sklearn.svm import SVC"
   ]
  },
  {
   "cell_type": "code",
   "execution_count": 149,
   "id": "25ba4623",
   "metadata": {},
   "outputs": [],
   "source": [
    "clf1 = SVC(kernel=\"linear\")\n",
    "clf2 = SVC(kernel=\"sigmoid\")\n",
    "clf3 = SVC(kernel=\"polynomial\")\n",
    "clf4 = SVC(kernel=\"gaussian\")"
   ]
  },
  {
   "cell_type": "code",
   "execution_count": 96,
   "id": "9eea7613",
   "metadata": {},
   "outputs": [],
   "source": [
    "clf1 = clf.fit(X_train,Y_train)\n",
    "clf2 = clf.fit(X_train,Y_train)\n",
    "clf3 = clf.fit(X_train,Y_train)\n",
    "clf4 = clf.fit(X_train,Y_train)"
   ]
  },
  {
   "cell_type": "code",
   "execution_count": 151,
   "id": "dc2724bb",
   "metadata": {},
   "outputs": [],
   "source": [
    "Y_pred_svc = clf.predict(X_test)\n",
    "Y_pred_sig = clf.predict(X_test)\n",
    "Y_pred_poly = clf.predict(X_test)\n",
    "Y_pred_g = clf.predict(X_test)"
   ]
  },
  {
   "cell_type": "code",
   "execution_count": 152,
   "id": "8fda386c",
   "metadata": {},
   "outputs": [
    {
     "name": "stdout",
     "output_type": "stream",
     "text": [
      "Accuracy of SVC (linear) : 95.57522123893806\n",
      "Accuracy of SVC (sigmoid) : 95.57522123893806\n",
      "Accuracy of SVC (polynomial) : 95.57522123893806\n",
      "Accuracy of SVC (gaussian) : 95.57522123893806\n"
     ]
    }
   ],
   "source": [
    "print(f\"Accuracy of SVC (linear) : {accuracy_score(Y_test,Y_pred_svc)*100}\")\n",
    "print(f\"Accuracy of SVC (sigmoid) : {accuracy_score(Y_test,Y_pred_sig)*100}\")\n",
    "print(f\"Accuracy of SVC (polynomial) : {accuracy_score(Y_test,Y_pred_poly)*100}\")\n",
    "print(f\"Accuracy of SVC (gaussian) : {accuracy_score(Y_test,Y_pred_g)*100}\")"
   ]
  },
  {
   "cell_type": "code",
   "execution_count": 153,
   "id": "dfe4856a",
   "metadata": {},
   "outputs": [
    {
     "name": "stdout",
     "output_type": "stream",
     "text": [
      "Accuracy of SVC (linear) : 95.57522123893806\n",
      "Accuracy of SVC (sigmoid) : 95.57522123893806\n",
      "Accuracy of SVC (polynomial) : 95.57522123893806\n",
      "Accuracy of SVC (gaussian) : 95.57522123893806\n"
     ]
    }
   ],
   "source": [
    "print(f\"Accuracy of SVC (linear) : {accuracy_score(Y_test,Y_pred_svc)*100}\")\n",
    "print(f\"Accuracy of SVC (sigmoid) : {accuracy_score(Y_test,Y_pred_sig)*100}\")\n",
    "print(f\"Accuracy of SVC (polynomial) : {accuracy_score(Y_test,Y_pred_poly)*100}\")\n",
    "print(f\"Accuracy of SVC (gaussian) : {accuracy_score(Y_test,Y_pred_g)*100}\")"
   ]
  },
  {
   "cell_type": "code",
   "execution_count": 154,
   "id": "36e5053a",
   "metadata": {},
   "outputs": [
    {
     "name": "stdout",
     "output_type": "stream",
     "text": [
      "Consusion Matrix of SVC (linear) : \n",
      "[[131   7]\n",
      " [  3  85]]\n",
      "Consusion Matrix of SVC (sigmoid) : \n",
      "[[131   7]\n",
      " [  3  85]]\n",
      "Consusion Matrix of SVC (polynomial) : \n",
      "[[131   7]\n",
      " [  3  85]]\n",
      "Consusion Matrix of SVC (gaussian) : \n",
      "[[131   7]\n",
      " [  3  85]]\n"
     ]
    }
   ],
   "source": [
    "print(f\"Consusion Matrix of SVC (linear) : \\n{confusion_matrix(Y_test,Y_pred_svc)}\")\n",
    "print(f\"Consusion Matrix of SVC (sigmoid) : \\n{confusion_matrix(Y_test,Y_pred_sig)}\")\n",
    "print(f\"Consusion Matrix of SVC (polynomial) : \\n{confusion_matrix(Y_test,Y_pred_poly)}\")\n",
    "print(f\"Consusion Matrix of SVC (gaussian) : \\n{confusion_matrix(Y_test,Y_pred_g)}\")"
   ]
  },
  {
   "cell_type": "code",
   "execution_count": null,
   "id": "72edf378",
   "metadata": {},
   "outputs": [],
   "source": []
  },
  {
   "cell_type": "code",
   "execution_count": null,
   "id": "d253ff19",
   "metadata": {},
   "outputs": [],
   "source": []
  }
 ],
 "metadata": {
  "kernelspec": {
   "display_name": "Python 3 (ipykernel)",
   "language": "python",
   "name": "python3"
  },
  "language_info": {
   "codemirror_mode": {
    "name": "ipython",
    "version": 3
   },
   "file_extension": ".py",
   "mimetype": "text/x-python",
   "name": "python",
   "nbconvert_exporter": "python",
   "pygments_lexer": "ipython3",
   "version": "3.9.7"
  }
 },
 "nbformat": 4,
 "nbformat_minor": 5
}
