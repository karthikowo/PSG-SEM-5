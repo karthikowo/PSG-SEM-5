{
 "cells": [
  {
   "cell_type": "code",
   "execution_count": 31,
   "id": "cb1c69b2",
   "metadata": {},
   "outputs": [],
   "source": [
    "import pandas as pd\n",
    "from sklearn import datasets\n",
    "import numpy as np"
   ]
  },
  {
   "cell_type": "code",
   "execution_count": 32,
   "id": "b3d61739",
   "metadata": {},
   "outputs": [],
   "source": [
    "iris = datasets.load_iris()\n",
    "data = iris.data"
   ]
  },
  {
   "cell_type": "code",
   "execution_count": 33,
   "id": "509a89d7",
   "metadata": {},
   "outputs": [],
   "source": [
    "def pca(X,k=2):\n",
    "    df = X.copy()\n",
    "    \n",
    "    df = df-df.mean()\n",
    "    \n",
    "    covar = list(df.cov().values)\n",
    "    \n",
    "    val,vec = np.linalg.eig(covar)\n",
    "    \n",
    "    idx = val.argsort()[::-1]\n",
    "    \n",
    "    val = val[idx]\n",
    "    vec = vec[:,idx]\n",
    "    print(vec)\n",
    "    for i in range(k):\n",
    "        vec[i] = vec[i]/np.linalg.norm(vec[i])\n",
    "    W = vec[:k]\n",
    "    print(W,np.linalg.norm(W[:1]))\n",
    "    Z = X.dot(W.T)\n",
    "    Z.columns = [\"P\"+str(i) for i in range(1,k+1)]\n",
    "    return Z"
   ]
  },
  {
   "cell_type": "code",
   "execution_count": 34,
   "id": "e642f218",
   "metadata": {},
   "outputs": [
    {
     "name": "stdout",
     "output_type": "stream",
     "text": [
      "[[ 0.36138659 -0.65658877 -0.58202985  0.31548719]\n",
      " [-0.08452251 -0.73016143  0.59791083 -0.3197231 ]\n",
      " [ 0.85667061  0.17337266  0.07623608 -0.47983899]\n",
      " [ 0.3582892   0.07548102  0.54583143  0.75365743]]\n",
      "[[ 0.36138659 -0.65658877 -0.58202985  0.31548719]\n",
      " [-0.08452251 -0.73016143  0.59791083 -0.3197231 ]] 1.0\n"
     ]
    },
    {
     "data": {
      "text/html": [
       "<div>\n",
       "<style scoped>\n",
       "    .dataframe tbody tr th:only-of-type {\n",
       "        vertical-align: middle;\n",
       "    }\n",
       "\n",
       "    .dataframe tbody tr th {\n",
       "        vertical-align: top;\n",
       "    }\n",
       "\n",
       "    .dataframe thead th {\n",
       "        text-align: right;\n",
       "    }\n",
       "</style>\n",
       "<table border=\"1\" class=\"dataframe\">\n",
       "  <thead>\n",
       "    <tr style=\"text-align: right;\">\n",
       "      <th></th>\n",
       "      <th>P1</th>\n",
       "      <th>P2</th>\n",
       "    </tr>\n",
       "  </thead>\n",
       "  <tbody>\n",
       "    <tr>\n",
       "      <th>0</th>\n",
       "      <td>-1.206733</td>\n",
       "      <td>-2.213499</td>\n",
       "    </tr>\n",
       "    <tr>\n",
       "      <th>1</th>\n",
       "      <td>-0.950716</td>\n",
       "      <td>-1.831514</td>\n",
       "    </tr>\n",
       "    <tr>\n",
       "      <th>2</th>\n",
       "      <td>-1.096108</td>\n",
       "      <td>-2.020433</td>\n",
       "    </tr>\n",
       "    <tr>\n",
       "      <th>3</th>\n",
       "      <td>-1.182994</td>\n",
       "      <td>-1.819382</td>\n",
       "    </tr>\n",
       "    <tr>\n",
       "      <th>4</th>\n",
       "      <td>-1.308531</td>\n",
       "      <td>-2.278063</td>\n",
       "    </tr>\n",
       "    <tr>\n",
       "      <th>...</th>\n",
       "      <td>...</td>\n",
       "      <td>...</td>\n",
       "    </tr>\n",
       "    <tr>\n",
       "      <th>145</th>\n",
       "      <td>-1.849411</td>\n",
       "      <td>-0.383012</td>\n",
       "    </tr>\n",
       "    <tr>\n",
       "      <th>146</th>\n",
       "      <td>-1.675460</td>\n",
       "      <td>0.024185</td>\n",
       "    </tr>\n",
       "    <tr>\n",
       "      <th>147</th>\n",
       "      <td>-2.016334</td>\n",
       "      <td>-0.270191</td>\n",
       "    </tr>\n",
       "    <tr>\n",
       "      <th>148</th>\n",
       "      <td>-2.409146</td>\n",
       "      <td>-0.513233</td>\n",
       "    </tr>\n",
       "    <tr>\n",
       "      <th>149</th>\n",
       "      <td>-2.238061</td>\n",
       "      <td>-0.215323</td>\n",
       "    </tr>\n",
       "  </tbody>\n",
       "</table>\n",
       "<p>150 rows × 2 columns</p>\n",
       "</div>"
      ],
      "text/plain": [
       "           P1        P2\n",
       "0   -1.206733 -2.213499\n",
       "1   -0.950716 -1.831514\n",
       "2   -1.096108 -2.020433\n",
       "3   -1.182994 -1.819382\n",
       "4   -1.308531 -2.278063\n",
       "..        ...       ...\n",
       "145 -1.849411 -0.383012\n",
       "146 -1.675460  0.024185\n",
       "147 -2.016334 -0.270191\n",
       "148 -2.409146 -0.513233\n",
       "149 -2.238061 -0.215323\n",
       "\n",
       "[150 rows x 2 columns]"
      ]
     },
     "execution_count": 34,
     "metadata": {},
     "output_type": "execute_result"
    }
   ],
   "source": [
    "pca(pd.DataFrame(data),2)"
   ]
  },
  {
   "cell_type": "code",
   "execution_count": null,
   "id": "f64c8466",
   "metadata": {},
   "outputs": [],
   "source": []
  }
 ],
 "metadata": {
  "kernelspec": {
   "display_name": "Python 3 (ipykernel)",
   "language": "python",
   "name": "python3"
  },
  "language_info": {
   "codemirror_mode": {
    "name": "ipython",
    "version": 3
   },
   "file_extension": ".py",
   "mimetype": "text/x-python",
   "name": "python",
   "nbconvert_exporter": "python",
   "pygments_lexer": "ipython3",
   "version": "3.10.1"
  }
 },
 "nbformat": 4,
 "nbformat_minor": 5
}
