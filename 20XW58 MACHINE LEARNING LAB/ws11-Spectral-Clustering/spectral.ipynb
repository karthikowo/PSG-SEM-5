{
 "cells": [
  {
   "cell_type": "code",
   "execution_count": 16,
   "id": "c0891810",
   "metadata": {},
   "outputs": [],
   "source": [
    "import pandas as pd\n",
    "import numpy as np"
   ]
  },
  {
   "cell_type": "code",
   "execution_count": 17,
   "id": "fb518724",
   "metadata": {},
   "outputs": [],
   "source": [
    "df = pd.read_csv(\"D:/PSG/PSG-Z/SEM 5/20XW58 MACHINE LEARNING LAB/ws9-SVC/datasets/tumor1.csv\")"
   ]
  },
  {
   "cell_type": "code",
   "execution_count": 18,
   "id": "f03e5647",
   "metadata": {},
   "outputs": [],
   "source": [
    "del df['Sample code number']"
   ]
  },
  {
   "cell_type": "code",
   "execution_count": 19,
   "id": "88373e45",
   "metadata": {},
   "outputs": [],
   "source": [
    "# df = df[0:1000]"
   ]
  },
  {
   "cell_type": "code",
   "execution_count": null,
   "id": "3cbcdc9a",
   "metadata": {},
   "outputs": [],
   "source": []
  },
  {
   "cell_type": "code",
   "execution_count": 20,
   "id": "79347725",
   "metadata": {},
   "outputs": [],
   "source": [
    "df_arr = df[df.columns[:-1]].to_numpy()"
   ]
  },
  {
   "cell_type": "code",
   "execution_count": 21,
   "id": "237f0061",
   "metadata": {},
   "outputs": [
    {
     "data": {
      "text/plain": [
       "array([[ 5,  1,  1, ...,  3,  1,  1],\n",
       "       [ 5,  4,  4, ...,  3,  2,  1],\n",
       "       [ 3,  1,  1, ...,  3,  1,  1],\n",
       "       ...,\n",
       "       [ 5, 10, 10, ...,  8, 10,  2],\n",
       "       [ 4,  8,  6, ..., 10,  6,  1],\n",
       "       [ 4,  8,  8, ..., 10,  4,  1]], dtype=int64)"
      ]
     },
     "execution_count": 21,
     "metadata": {},
     "output_type": "execute_result"
    }
   ],
   "source": [
    "df_arr"
   ]
  },
  {
   "cell_type": "code",
   "execution_count": 22,
   "id": "8a0f7d19",
   "metadata": {},
   "outputs": [],
   "source": [
    "A = []\n",
    "\n",
    "for i in range(len(df_arr)):\n",
    "    rowe = []\n",
    "    for j in range(len(df_arr)):\n",
    "        dist = 0\n",
    "        if(i==j):\n",
    "            rowe.append(dist)\n",
    "        else:\n",
    "            for k in range(len(df_arr[i])):\n",
    "                dist += (df_arr[i][k] - df_arr[j][k])**2\n",
    "            rowe.append(dist**0.5)\n",
    "    A.append(rowe)"
   ]
  },
  {
   "cell_type": "code",
   "execution_count": 23,
   "id": "330936cb",
   "metadata": {},
   "outputs": [],
   "source": [
    "A = np.array(A)"
   ]
  },
  {
   "cell_type": "code",
   "execution_count": 24,
   "id": "e54a38fd",
   "metadata": {},
   "outputs": [
    {
     "data": {
      "text/plain": [
       "array([[ 0.        , 11.87434209,  2.23606798, ..., 17.3781472 ,\n",
       "        12.9614814 , 13.89244399],\n",
       "       [11.87434209,  0.        , 11.3137085 , ..., 14.6628783 ,\n",
       "        11.78982612, 10.95445115],\n",
       "       [ 2.23606798, 11.3137085 ,  0.        , ..., 17.40689519,\n",
       "        12.76714533, 13.6381817 ],\n",
       "       ...,\n",
       "       [17.3781472 , 14.6628783 , 17.40689519, ...,  0.        ,\n",
       "         7.74596669,  8.18535277],\n",
       "       [12.9614814 , 11.78982612, 12.76714533, ...,  7.74596669,\n",
       "         0.        ,  3.31662479],\n",
       "       [13.89244399, 10.95445115, 13.6381817 , ...,  8.18535277,\n",
       "         3.31662479,  0.        ]])"
      ]
     },
     "execution_count": 24,
     "metadata": {},
     "output_type": "execute_result"
    }
   ],
   "source": [
    "A"
   ]
  },
  {
   "cell_type": "code",
   "execution_count": 25,
   "id": "ec960054",
   "metadata": {},
   "outputs": [],
   "source": [
    "D = []\n",
    "\n",
    "for i in range(len(df_arr)):\n",
    "    rowe = []\n",
    "    for j in range(len(df_arr)):\n",
    "        deg = 0\n",
    "        if(i==j):\n",
    "            deg = len(A[0])-1\n",
    "            rowe.append(deg)\n",
    "        else:\n",
    "            rowe.append(deg)\n",
    "    D.append(rowe)"
   ]
  },
  {
   "cell_type": "code",
   "execution_count": 26,
   "id": "e1ffa1f9",
   "metadata": {},
   "outputs": [],
   "source": [
    "D = np.array(D)"
   ]
  },
  {
   "cell_type": "code",
   "execution_count": 27,
   "id": "6b5ac7c2",
   "metadata": {},
   "outputs": [
    {
     "data": {
      "text/plain": [
       "array([[2048,    0,    0, ...,    0,    0,    0],\n",
       "       [   0, 2048,    0, ...,    0,    0,    0],\n",
       "       [   0,    0, 2048, ...,    0,    0,    0],\n",
       "       ...,\n",
       "       [   0,    0,    0, ..., 2048,    0,    0],\n",
       "       [   0,    0,    0, ...,    0, 2048,    0],\n",
       "       [   0,    0,    0, ...,    0,    0, 2048]])"
      ]
     },
     "execution_count": 27,
     "metadata": {},
     "output_type": "execute_result"
    }
   ],
   "source": [
    "D"
   ]
  },
  {
   "cell_type": "code",
   "execution_count": 28,
   "id": "47a5a4e1",
   "metadata": {},
   "outputs": [],
   "source": [
    "L = D-A"
   ]
  },
  {
   "cell_type": "code",
   "execution_count": 31,
   "id": "ef88b354",
   "metadata": {},
   "outputs": [],
   "source": [
    "val,vec = np.linalg.eig(L)"
   ]
  },
  {
   "cell_type": "code",
   "execution_count": 34,
   "id": "032ad7bb",
   "metadata": {},
   "outputs": [
    {
     "name": "stdout",
     "output_type": "stream",
     "text": [
      "[-20064.19698481+0.j  12150.66020691+0.j   3306.53629967+0.j ...\n",
      "   2048.        +0.j   2048.        +0.j   2048.        +0.j]\n"
     ]
    }
   ],
   "source": [
    "print(val)"
   ]
  },
  {
   "cell_type": "code",
   "execution_count": null,
   "id": "e69cfd42",
   "metadata": {},
   "outputs": [],
   "source": []
  }
 ],
 "metadata": {
  "kernelspec": {
   "display_name": "Python 3 (ipykernel)",
   "language": "python",
   "name": "python3"
  },
  "language_info": {
   "codemirror_mode": {
    "name": "ipython",
    "version": 3
   },
   "file_extension": ".py",
   "mimetype": "text/x-python",
   "name": "python",
   "nbconvert_exporter": "python",
   "pygments_lexer": "ipython3",
   "version": "3.10.1"
  }
 },
 "nbformat": 4,
 "nbformat_minor": 5
}
