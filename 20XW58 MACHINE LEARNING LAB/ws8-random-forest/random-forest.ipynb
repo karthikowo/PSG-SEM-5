{
 "cells": [
  {
   "cell_type": "code",
   "execution_count": 1,
   "id": "ff1171f9",
   "metadata": {},
   "outputs": [],
   "source": [
    "import pandas as pd\n",
    "import matplotlib as pyplot\n",
    "import numpy as np\n",
    "from sklearn.tree import DecisionTreeClassifier\n",
    "from sklearn.preprocessing import LabelEncoder\n",
    "from sklearn.model_selection import train_test_split\n",
    "from sklearn.tree import DecisionTreeClassifier as dc\n",
    "from sklearn import tree\n",
    "from sklearn.ensemble import RandomForestClassifier\n",
    "from sklearn.metrics import accuracy_score,confusion_matrix,precision_score"
   ]
  },
  {
   "cell_type": "code",
   "execution_count": 3,
   "id": "1b730d06",
   "metadata": {},
   "outputs": [
    {
     "name": "stdout",
     "output_type": "stream",
     "text": [
      "  V1 V2 V3 V4 V5 V6 V7 V8 V9       V10  V1_n  V2_n  V3_n  V4_n  V5_n  V6_n  \\\n",
      "0  x  x  x  x  o  o  x  o  o  positive     2     2     2     2     1     1   \n",
      "1  x  x  x  x  o  o  o  x  o  positive     2     2     2     2     1     1   \n",
      "2  x  x  x  x  o  o  o  o  x  positive     2     2     2     2     1     1   \n",
      "3  x  x  x  x  o  o  o  b  b  positive     2     2     2     2     1     1   \n",
      "\n",
      "   V7_n  V8_n  V9_n  V10_n  \n",
      "0     2     1     1      1  \n",
      "1     1     2     1      1  \n",
      "2     1     1     2      1  \n",
      "3     1     0     0      1  \n"
     ]
    }
   ],
   "source": [
    "df=pd.read_csv('Z:/SEM 5/20XW58 MACHINE LEARNING LAB/ws8-random-forest/datasets/tic-tac-toe-endgame.csv')\n",
    "k=df.keys()\n",
    "for i in k:\n",
    "    ob=LabelEncoder()\n",
    "    n=str(i)+'_n'\n",
    "    df[n]=ob.fit_transform(df[i])\n",
    "print(df.head(4))"
   ]
  },
  {
   "cell_type": "code",
   "execution_count": 4,
   "id": "0dd86757",
   "metadata": {},
   "outputs": [],
   "source": [
    "X=df.iloc[:,10:-1]\n",
    "Y=df['V10_n']"
   ]
  },
  {
   "cell_type": "code",
   "execution_count": 5,
   "id": "9b508fcd",
   "metadata": {},
   "outputs": [],
   "source": [
    "Xtrain,xtest,ytrain,ytest=train_test_split(X,Y,test_size=0.2,random_state=0)"
   ]
  },
  {
   "cell_type": "code",
   "execution_count": 6,
   "id": "639ae38f",
   "metadata": {},
   "outputs": [
    {
     "name": "stdout",
     "output_type": "stream",
     "text": [
      "Accuracy in Decision tree :  0.8854166666666666\n",
      "Precision in Decision tree :  0.8809523809523809\n"
     ]
    }
   ],
   "source": [
    "\"\"\"Decision_tree\"\"\"\n",
    "DC_model=dc(max_depth=8)\n",
    "DC_model.fit(Xtrain,ytrain)\n",
    "y_pred_DC=DC_model.predict(xtest)\n",
    "print(\"Accuracy in Decision tree : \",accuracy_score(ytest,y_pred_DC))\n",
    "print(\"Precision in Decision tree : \",precision_score(ytest,y_pred_DC))"
   ]
  },
  {
   "cell_type": "code",
   "execution_count": 7,
   "id": "1969feb1",
   "metadata": {},
   "outputs": [
    {
     "name": "stdout",
     "output_type": "stream",
     "text": [
      "Accuracy in random forest :  0.9427083333333334\n",
      "Precision in random forest :  0.9147286821705426\n"
     ]
    }
   ],
   "source": [
    "\"\"\"Random_forest\"\"\"\n",
    "\n",
    "rfc=RandomForestClassifier(n_estimators=50, random_state=0)\n",
    "rfc.fit(Xtrain,ytrain)\n",
    "y_pred_rfc=rfc.predict(xtest)\n",
    "print(\"Accuracy in random forest : \",accuracy_score(ytest,y_pred_rfc))\n",
    "print(\"Precision in random forest : \",precision_score(ytest,y_pred_rfc))"
   ]
  },
  {
   "cell_type": "code",
   "execution_count": null,
   "id": "bb654311",
   "metadata": {},
   "outputs": [],
   "source": []
  }
 ],
 "metadata": {
  "kernelspec": {
   "display_name": "Python 3 (ipykernel)",
   "language": "python",
   "name": "python3"
  },
  "language_info": {
   "codemirror_mode": {
    "name": "ipython",
    "version": 3
   },
   "file_extension": ".py",
   "mimetype": "text/x-python",
   "name": "python",
   "nbconvert_exporter": "python",
   "pygments_lexer": "ipython3",
   "version": "3.9.7"
  }
 },
 "nbformat": 4,
 "nbformat_minor": 5
}
